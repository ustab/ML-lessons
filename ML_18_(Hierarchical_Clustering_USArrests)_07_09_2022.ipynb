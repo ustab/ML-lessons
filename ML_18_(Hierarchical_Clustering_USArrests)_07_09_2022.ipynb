{
  "cells": [
    {
      "cell_type": "markdown",
      "metadata": {
        "id": "view-in-github",
        "colab_type": "text"
      },
      "source": [
        "<a href=\"https://colab.research.google.com/github/ustab/ML-lessons/blob/main/ML_18_(Hierarchical_Clustering_USArrests)_07_09_2022.ipynb\" target=\"_parent\"><img src=\"https://colab.research.google.com/assets/colab-badge.svg\" alt=\"Open In Colab\"/></a>"
      ]
    },
    {
      "cell_type": "markdown",
      "metadata": {
        "id": "o1BigWGVSW0s"
      },
      "source": [
        "# Hierarchical Clustering"
      ]
    },
    {
      "cell_type": "markdown",
      "metadata": {
        "id": "5dzAecnsSW0v"
      },
      "source": [
        "This data set contains statistics, in arrests per 100,000 residents for assault, murder, and rape in each of the 50 US states in 1973. Also given is the percent of the population living in urban areas.\n",
        "\n",
        "A data frame with 50 observations on 4 variables.\n",
        "\n",
        "- Murder numeric Murder arrests (per 100,000) (K)\n",
        "- Assault numeric Assault arrests (per 100,000)\n",
        "- UrbanPop numeric Percent urban population (%)\n",
        "- Rape numeric Rape arrests (per 100,000) (K)"
      ]
    },
    {
      "cell_type": "code",
      "execution_count": 2,
      "metadata": {
        "ExecuteTime": {
          "end_time": "2022-09-07T10:40:27.628613Z",
          "start_time": "2022-09-07T10:40:26.473614Z"
        },
        "id": "vWWx6FBcSW0w"
      },
      "outputs": [],
      "source": [
        "import numpy as np\n",
        "import pandas as pd\n",
        "import seaborn as sns\n",
        "import matplotlib.pyplot as plt\n",
        "\n",
        "plt.rcParams[\"figure.figsize\"] = (10,6)\n",
        "import warnings\n",
        "warnings.filterwarnings(\"ignore\")\n",
        "warnings.warn(\"this will not show\")\n",
        "#pd.set_option('display.float_format', lambda x: '%.3f' % x)"
      ]
    },
    {
      "cell_type": "code",
      "execution_count": 6,
      "metadata": {
        "ExecuteTime": {
          "end_time": "2022-09-07T10:40:27.643986Z",
          "start_time": "2022-09-07T10:40:27.629662Z"
        },
        "id": "yNaDlo4MSW0x"
      },
      "outputs": [],
      "source": [
        "df = pd.read_csv(\"/content/USArrests.csv\", index_col=0)"
      ]
    },
    {
      "cell_type": "code",
      "execution_count": 4,
      "metadata": {
        "ExecuteTime": {
          "end_time": "2022-09-07T10:40:27.659340Z",
          "start_time": "2022-09-07T10:40:27.645384Z"
        },
        "colab": {
          "base_uri": "https://localhost:8080/",
          "height": 206
        },
        "id": "WDa1uknrSW0x",
        "outputId": "9f15c10b-7703-4dab-e9c4-b97a290e3a55"
      },
      "outputs": [
        {
          "output_type": "execute_result",
          "data": {
            "text/plain": [
              "            Murder  Assault  UrbanPop  Rape\n",
              "Alabama       13.2      236        58  21.2\n",
              "Alaska        10.0      263        48  44.5\n",
              "Arizona        8.1      294        80  31.0\n",
              "Arkansas       8.8      190        50  19.5\n",
              "California     9.0      276        91  40.6"
            ],
            "text/html": [
              "\n",
              "  <div id=\"df-df0c105c-9bab-4aba-a23d-b843e986ee59\">\n",
              "    <div class=\"colab-df-container\">\n",
              "      <div>\n",
              "<style scoped>\n",
              "    .dataframe tbody tr th:only-of-type {\n",
              "        vertical-align: middle;\n",
              "    }\n",
              "\n",
              "    .dataframe tbody tr th {\n",
              "        vertical-align: top;\n",
              "    }\n",
              "\n",
              "    .dataframe thead th {\n",
              "        text-align: right;\n",
              "    }\n",
              "</style>\n",
              "<table border=\"1\" class=\"dataframe\">\n",
              "  <thead>\n",
              "    <tr style=\"text-align: right;\">\n",
              "      <th></th>\n",
              "      <th>Murder</th>\n",
              "      <th>Assault</th>\n",
              "      <th>UrbanPop</th>\n",
              "      <th>Rape</th>\n",
              "    </tr>\n",
              "  </thead>\n",
              "  <tbody>\n",
              "    <tr>\n",
              "      <th>Alabama</th>\n",
              "      <td>13.2</td>\n",
              "      <td>236</td>\n",
              "      <td>58</td>\n",
              "      <td>21.2</td>\n",
              "    </tr>\n",
              "    <tr>\n",
              "      <th>Alaska</th>\n",
              "      <td>10.0</td>\n",
              "      <td>263</td>\n",
              "      <td>48</td>\n",
              "      <td>44.5</td>\n",
              "    </tr>\n",
              "    <tr>\n",
              "      <th>Arizona</th>\n",
              "      <td>8.1</td>\n",
              "      <td>294</td>\n",
              "      <td>80</td>\n",
              "      <td>31.0</td>\n",
              "    </tr>\n",
              "    <tr>\n",
              "      <th>Arkansas</th>\n",
              "      <td>8.8</td>\n",
              "      <td>190</td>\n",
              "      <td>50</td>\n",
              "      <td>19.5</td>\n",
              "    </tr>\n",
              "    <tr>\n",
              "      <th>California</th>\n",
              "      <td>9.0</td>\n",
              "      <td>276</td>\n",
              "      <td>91</td>\n",
              "      <td>40.6</td>\n",
              "    </tr>\n",
              "  </tbody>\n",
              "</table>\n",
              "</div>\n",
              "      <button class=\"colab-df-convert\" onclick=\"convertToInteractive('df-df0c105c-9bab-4aba-a23d-b843e986ee59')\"\n",
              "              title=\"Convert this dataframe to an interactive table.\"\n",
              "              style=\"display:none;\">\n",
              "        \n",
              "  <svg xmlns=\"http://www.w3.org/2000/svg\" height=\"24px\"viewBox=\"0 0 24 24\"\n",
              "       width=\"24px\">\n",
              "    <path d=\"M0 0h24v24H0V0z\" fill=\"none\"/>\n",
              "    <path d=\"M18.56 5.44l.94 2.06.94-2.06 2.06-.94-2.06-.94-.94-2.06-.94 2.06-2.06.94zm-11 1L8.5 8.5l.94-2.06 2.06-.94-2.06-.94L8.5 2.5l-.94 2.06-2.06.94zm10 10l.94 2.06.94-2.06 2.06-.94-2.06-.94-.94-2.06-.94 2.06-2.06.94z\"/><path d=\"M17.41 7.96l-1.37-1.37c-.4-.4-.92-.59-1.43-.59-.52 0-1.04.2-1.43.59L10.3 9.45l-7.72 7.72c-.78.78-.78 2.05 0 2.83L4 21.41c.39.39.9.59 1.41.59.51 0 1.02-.2 1.41-.59l7.78-7.78 2.81-2.81c.8-.78.8-2.07 0-2.86zM5.41 20L4 18.59l7.72-7.72 1.47 1.35L5.41 20z\"/>\n",
              "  </svg>\n",
              "      </button>\n",
              "      \n",
              "  <style>\n",
              "    .colab-df-container {\n",
              "      display:flex;\n",
              "      flex-wrap:wrap;\n",
              "      gap: 12px;\n",
              "    }\n",
              "\n",
              "    .colab-df-convert {\n",
              "      background-color: #E8F0FE;\n",
              "      border: none;\n",
              "      border-radius: 50%;\n",
              "      cursor: pointer;\n",
              "      display: none;\n",
              "      fill: #1967D2;\n",
              "      height: 32px;\n",
              "      padding: 0 0 0 0;\n",
              "      width: 32px;\n",
              "    }\n",
              "\n",
              "    .colab-df-convert:hover {\n",
              "      background-color: #E2EBFA;\n",
              "      box-shadow: 0px 1px 2px rgba(60, 64, 67, 0.3), 0px 1px 3px 1px rgba(60, 64, 67, 0.15);\n",
              "      fill: #174EA6;\n",
              "    }\n",
              "\n",
              "    [theme=dark] .colab-df-convert {\n",
              "      background-color: #3B4455;\n",
              "      fill: #D2E3FC;\n",
              "    }\n",
              "\n",
              "    [theme=dark] .colab-df-convert:hover {\n",
              "      background-color: #434B5C;\n",
              "      box-shadow: 0px 1px 3px 1px rgba(0, 0, 0, 0.15);\n",
              "      filter: drop-shadow(0px 1px 2px rgba(0, 0, 0, 0.3));\n",
              "      fill: #FFFFFF;\n",
              "    }\n",
              "  </style>\n",
              "\n",
              "      <script>\n",
              "        const buttonEl =\n",
              "          document.querySelector('#df-df0c105c-9bab-4aba-a23d-b843e986ee59 button.colab-df-convert');\n",
              "        buttonEl.style.display =\n",
              "          google.colab.kernel.accessAllowed ? 'block' : 'none';\n",
              "\n",
              "        async function convertToInteractive(key) {\n",
              "          const element = document.querySelector('#df-df0c105c-9bab-4aba-a23d-b843e986ee59');\n",
              "          const dataTable =\n",
              "            await google.colab.kernel.invokeFunction('convertToInteractive',\n",
              "                                                     [key], {});\n",
              "          if (!dataTable) return;\n",
              "\n",
              "          const docLinkHtml = 'Like what you see? Visit the ' +\n",
              "            '<a target=\"_blank\" href=https://colab.research.google.com/notebooks/data_table.ipynb>data table notebook</a>'\n",
              "            + ' to learn more about interactive tables.';\n",
              "          element.innerHTML = '';\n",
              "          dataTable['output_type'] = 'display_data';\n",
              "          await google.colab.output.renderOutput(dataTable, element);\n",
              "          const docLink = document.createElement('div');\n",
              "          docLink.innerHTML = docLinkHtml;\n",
              "          element.appendChild(docLink);\n",
              "        }\n",
              "      </script>\n",
              "    </div>\n",
              "  </div>\n",
              "  "
            ]
          },
          "metadata": {},
          "execution_count": 4
        }
      ],
      "source": [
        "df.head()"
      ]
    },
    {
      "cell_type": "markdown",
      "metadata": {
        "id": "jOoKWV7xSW0y"
      },
      "source": [
        "## Exploratory Data Analysis and Visualization"
      ]
    },
    {
      "cell_type": "code",
      "execution_count": 7,
      "metadata": {
        "ExecuteTime": {
          "end_time": "2022-09-07T10:40:27.675285Z",
          "start_time": "2022-09-07T10:40:27.660334Z"
        },
        "colab": {
          "base_uri": "https://localhost:8080/"
        },
        "id": "3H7N_Z5QSW0y",
        "outputId": "9ec1e750-3c56-41de-9e52-3c254a6c219b"
      },
      "outputs": [
        {
          "output_type": "stream",
          "name": "stdout",
          "text": [
            "<class 'pandas.core.frame.DataFrame'>\n",
            "Index: 50 entries, Alabama to Wyoming\n",
            "Data columns (total 4 columns):\n",
            " #   Column    Non-Null Count  Dtype  \n",
            "---  ------    --------------  -----  \n",
            " 0   Murder    50 non-null     float64\n",
            " 1   Assault   50 non-null     int64  \n",
            " 2   UrbanPop  50 non-null     int64  \n",
            " 3   Rape      50 non-null     float64\n",
            "dtypes: float64(2), int64(2)\n",
            "memory usage: 2.0+ KB\n"
          ]
        }
      ],
      "source": [
        "df.info()"
      ]
    },
    {
      "cell_type": "code",
      "execution_count": 8,
      "metadata": {
        "ExecuteTime": {
          "end_time": "2022-09-07T10:40:27.691235Z",
          "start_time": "2022-09-07T10:40:27.676282Z"
        },
        "colab": {
          "base_uri": "https://localhost:8080/",
          "height": 175
        },
        "id": "L3ghV5OASW0z",
        "outputId": "c3217774-5569-41bf-b2a7-3ebbf2b4ca45"
      },
      "outputs": [
        {
          "output_type": "execute_result",
          "data": {
            "text/plain": [
              "          count     mean        std   min      25%     50%      75%    max\n",
              "Murder     50.0    7.788   4.355510   0.8    4.075    7.25   11.250   17.4\n",
              "Assault    50.0  170.760  83.337661  45.0  109.000  159.00  249.000  337.0\n",
              "UrbanPop   50.0   65.540  14.474763  32.0   54.500   66.00   77.750   91.0\n",
              "Rape       50.0   21.232   9.366385   7.3   15.075   20.10   26.175   46.0"
            ],
            "text/html": [
              "\n",
              "  <div id=\"df-f1271b78-658b-4fda-aebb-1b7e76c58e2a\">\n",
              "    <div class=\"colab-df-container\">\n",
              "      <div>\n",
              "<style scoped>\n",
              "    .dataframe tbody tr th:only-of-type {\n",
              "        vertical-align: middle;\n",
              "    }\n",
              "\n",
              "    .dataframe tbody tr th {\n",
              "        vertical-align: top;\n",
              "    }\n",
              "\n",
              "    .dataframe thead th {\n",
              "        text-align: right;\n",
              "    }\n",
              "</style>\n",
              "<table border=\"1\" class=\"dataframe\">\n",
              "  <thead>\n",
              "    <tr style=\"text-align: right;\">\n",
              "      <th></th>\n",
              "      <th>count</th>\n",
              "      <th>mean</th>\n",
              "      <th>std</th>\n",
              "      <th>min</th>\n",
              "      <th>25%</th>\n",
              "      <th>50%</th>\n",
              "      <th>75%</th>\n",
              "      <th>max</th>\n",
              "    </tr>\n",
              "  </thead>\n",
              "  <tbody>\n",
              "    <tr>\n",
              "      <th>Murder</th>\n",
              "      <td>50.0</td>\n",
              "      <td>7.788</td>\n",
              "      <td>4.355510</td>\n",
              "      <td>0.8</td>\n",
              "      <td>4.075</td>\n",
              "      <td>7.25</td>\n",
              "      <td>11.250</td>\n",
              "      <td>17.4</td>\n",
              "    </tr>\n",
              "    <tr>\n",
              "      <th>Assault</th>\n",
              "      <td>50.0</td>\n",
              "      <td>170.760</td>\n",
              "      <td>83.337661</td>\n",
              "      <td>45.0</td>\n",
              "      <td>109.000</td>\n",
              "      <td>159.00</td>\n",
              "      <td>249.000</td>\n",
              "      <td>337.0</td>\n",
              "    </tr>\n",
              "    <tr>\n",
              "      <th>UrbanPop</th>\n",
              "      <td>50.0</td>\n",
              "      <td>65.540</td>\n",
              "      <td>14.474763</td>\n",
              "      <td>32.0</td>\n",
              "      <td>54.500</td>\n",
              "      <td>66.00</td>\n",
              "      <td>77.750</td>\n",
              "      <td>91.0</td>\n",
              "    </tr>\n",
              "    <tr>\n",
              "      <th>Rape</th>\n",
              "      <td>50.0</td>\n",
              "      <td>21.232</td>\n",
              "      <td>9.366385</td>\n",
              "      <td>7.3</td>\n",
              "      <td>15.075</td>\n",
              "      <td>20.10</td>\n",
              "      <td>26.175</td>\n",
              "      <td>46.0</td>\n",
              "    </tr>\n",
              "  </tbody>\n",
              "</table>\n",
              "</div>\n",
              "      <button class=\"colab-df-convert\" onclick=\"convertToInteractive('df-f1271b78-658b-4fda-aebb-1b7e76c58e2a')\"\n",
              "              title=\"Convert this dataframe to an interactive table.\"\n",
              "              style=\"display:none;\">\n",
              "        \n",
              "  <svg xmlns=\"http://www.w3.org/2000/svg\" height=\"24px\"viewBox=\"0 0 24 24\"\n",
              "       width=\"24px\">\n",
              "    <path d=\"M0 0h24v24H0V0z\" fill=\"none\"/>\n",
              "    <path d=\"M18.56 5.44l.94 2.06.94-2.06 2.06-.94-2.06-.94-.94-2.06-.94 2.06-2.06.94zm-11 1L8.5 8.5l.94-2.06 2.06-.94-2.06-.94L8.5 2.5l-.94 2.06-2.06.94zm10 10l.94 2.06.94-2.06 2.06-.94-2.06-.94-.94-2.06-.94 2.06-2.06.94z\"/><path d=\"M17.41 7.96l-1.37-1.37c-.4-.4-.92-.59-1.43-.59-.52 0-1.04.2-1.43.59L10.3 9.45l-7.72 7.72c-.78.78-.78 2.05 0 2.83L4 21.41c.39.39.9.59 1.41.59.51 0 1.02-.2 1.41-.59l7.78-7.78 2.81-2.81c.8-.78.8-2.07 0-2.86zM5.41 20L4 18.59l7.72-7.72 1.47 1.35L5.41 20z\"/>\n",
              "  </svg>\n",
              "      </button>\n",
              "      \n",
              "  <style>\n",
              "    .colab-df-container {\n",
              "      display:flex;\n",
              "      flex-wrap:wrap;\n",
              "      gap: 12px;\n",
              "    }\n",
              "\n",
              "    .colab-df-convert {\n",
              "      background-color: #E8F0FE;\n",
              "      border: none;\n",
              "      border-radius: 50%;\n",
              "      cursor: pointer;\n",
              "      display: none;\n",
              "      fill: #1967D2;\n",
              "      height: 32px;\n",
              "      padding: 0 0 0 0;\n",
              "      width: 32px;\n",
              "    }\n",
              "\n",
              "    .colab-df-convert:hover {\n",
              "      background-color: #E2EBFA;\n",
              "      box-shadow: 0px 1px 2px rgba(60, 64, 67, 0.3), 0px 1px 3px 1px rgba(60, 64, 67, 0.15);\n",
              "      fill: #174EA6;\n",
              "    }\n",
              "\n",
              "    [theme=dark] .colab-df-convert {\n",
              "      background-color: #3B4455;\n",
              "      fill: #D2E3FC;\n",
              "    }\n",
              "\n",
              "    [theme=dark] .colab-df-convert:hover {\n",
              "      background-color: #434B5C;\n",
              "      box-shadow: 0px 1px 3px 1px rgba(0, 0, 0, 0.15);\n",
              "      filter: drop-shadow(0px 1px 2px rgba(0, 0, 0, 0.3));\n",
              "      fill: #FFFFFF;\n",
              "    }\n",
              "  </style>\n",
              "\n",
              "      <script>\n",
              "        const buttonEl =\n",
              "          document.querySelector('#df-f1271b78-658b-4fda-aebb-1b7e76c58e2a button.colab-df-convert');\n",
              "        buttonEl.style.display =\n",
              "          google.colab.kernel.accessAllowed ? 'block' : 'none';\n",
              "\n",
              "        async function convertToInteractive(key) {\n",
              "          const element = document.querySelector('#df-f1271b78-658b-4fda-aebb-1b7e76c58e2a');\n",
              "          const dataTable =\n",
              "            await google.colab.kernel.invokeFunction('convertToInteractive',\n",
              "                                                     [key], {});\n",
              "          if (!dataTable) return;\n",
              "\n",
              "          const docLinkHtml = 'Like what you see? Visit the ' +\n",
              "            '<a target=\"_blank\" href=https://colab.research.google.com/notebooks/data_table.ipynb>data table notebook</a>'\n",
              "            + ' to learn more about interactive tables.';\n",
              "          element.innerHTML = '';\n",
              "          dataTable['output_type'] = 'display_data';\n",
              "          await google.colab.output.renderOutput(dataTable, element);\n",
              "          const docLink = document.createElement('div');\n",
              "          docLink.innerHTML = docLinkHtml;\n",
              "          element.appendChild(docLink);\n",
              "        }\n",
              "      </script>\n",
              "    </div>\n",
              "  </div>\n",
              "  "
            ]
          },
          "metadata": {},
          "execution_count": 8
        }
      ],
      "source": [
        "df.describe().T"
      ]
    },
    {
      "cell_type": "code",
      "execution_count": 9,
      "metadata": {
        "ExecuteTime": {
          "end_time": "2022-09-07T10:40:28.876267Z",
          "start_time": "2022-09-07T10:40:27.692228Z"
        },
        "colab": {
          "base_uri": "https://localhost:8080/",
          "height": 726
        },
        "id": "t5meAMpsSW0z",
        "outputId": "3ff9712a-562a-4d94-a3e1-3e379d4aed68"
      },
      "outputs": [
        {
          "output_type": "display_data",
          "data": {
            "text/plain": [
              "<Figure size 720x720 with 20 Axes>"
            ],
            "image/png": "[encoded data removed]"
          },
          "metadata": {
            "needs_background": "light"
          }
        }
      ],
      "source": [
        "sns.pairplot(df);"
      ]
    },
    {
      "cell_type": "code",
      "execution_count": 13,
      "metadata": {
        "ExecuteTime": {
          "end_time": "2022-09-07T10:40:29.285962Z",
          "start_time": "2022-09-07T10:40:28.877270Z"
        },
        "colab": {
          "base_uri": "https://localhost:8080/",
          "height": 443
        },
        "id": "qzU_YN5zSW0z",
        "outputId": "9411982b-f8bf-4503-d738-e9465d13bfc6"
      },
      "outputs": [
        {
          "output_type": "display_data",
          "data": {
            "text/plain": [
              "<Figure size 1008x432 with 1 Axes>"
            ],
            "image/png": "[encoded data removed]"
          },
          "metadata": {
            "needs_background": "light"
          }
        }
      ],
      "source": [
        "murder = df.Murder.sort_values()\n",
        "\n",
        "plt.figure(figsize = (14,6))\n",
        "sns.barplot(y = murder, x = murder.index)\n",
        "plt.xticks(rotation = 90);"
      ]
    },
    {
      "cell_type": "code",
      "execution_count": 11,
      "metadata": {
        "ExecuteTime": {
          "end_time": "2022-09-07T10:40:29.649179Z",
          "start_time": "2022-09-07T10:40:29.286959Z"
        },
        "colab": {
          "base_uri": "https://localhost:8080/",
          "height": 443
        },
        "id": "m3rAtVfTSW00",
        "outputId": "2de6130c-4f0f-4d02-b8ec-4e07c0ea66b6"
      },
      "outputs": [
        {
          "output_type": "display_data",
          "data": {
            "text/plain": [
              "<Figure size 1008x432 with 1 Axes>"
            ],
            "image/png": "[encoded data removed]"
          },
          "metadata": {
            "needs_background": "light"
          }
        }
      ],
      "source": [
        "assault = df.Assault.sort_values()\n",
        "\n",
        "plt.figure(figsize = (14,6))\n",
        "sns.barplot(y = assault, x = assault.index)\n",
        "plt.xticks(rotation = 90);"
      ]
    },
    {
      "cell_type": "code",
      "execution_count": 12,
      "metadata": {
        "ExecuteTime": {
          "end_time": "2022-09-07T10:40:29.997005Z",
          "start_time": "2022-09-07T10:40:29.650173Z"
        },
        "colab": {
          "base_uri": "https://localhost:8080/",
          "height": 443
        },
        "id": "AmKlc2kNSW00",
        "outputId": "9cae9e40-ed65-4309-fef1-1143ed12a331"
      },
      "outputs": [
        {
          "output_type": "display_data",
          "data": {
            "text/plain": [
              "<Figure size 1008x432 with 1 Axes>"
            ],
            "image/png": "[encoded data removed]"
          },
          "metadata": {
            "needs_background": "light"
          }
        }
      ],
      "source": [
        "rape = df.Rape.sort_values()\n",
        "\n",
        "plt.figure(figsize = (14,6))\n",
        "sns.barplot(y = rape, x = rape.index)\n",
        "plt.xticks(rotation = 90);"
      ]
    },
    {
      "cell_type": "markdown",
      "metadata": {
        "id": "KDIhjFT0SW00"
      },
      "source": [
        "## Hopkins Test"
      ]
    },
    {
      "cell_type": "markdown",
      "metadata": {
        "id": "35cD7XbISW00"
      },
      "source": [
        "- Hopkins test, a statistical test for randomness of a variable.\n",
        "- Null Hypothesis (Ho) : Data points are generated by non-random, uniform distribution (implying no meaningful clusters)\n",
        "- Alternate Hypothesis (Ha): Data points are generated by random data points (presence of clusters)\n",
        "- The more close 0, the more available to separate clusters"
      ]
    },
    {
      "cell_type": "code",
      "execution_count": 14,
      "metadata": {
        "ExecuteTime": {
          "end_time": "2022-09-07T10:40:30.012955Z",
          "start_time": "2022-09-07T10:40:29.998002Z"
        },
        "colab": {
          "base_uri": "https://localhost:8080/"
        },
        "id": "QZS7DZ0KSW01",
        "outputId": "033b878d-608f-4a37-afff-80bd4e393077"
      },
      "outputs": [
        {
          "output_type": "stream",
          "name": "stdout",
          "text": [
            "Looking in indexes: https://pypi.org/simple, https://us-python.pkg.dev/colab-wheels/public/simple/\n",
            "Collecting pyclustertend\n",
            "  Downloading pyclustertend-1.4.9-py3-none-any.whl (9.8 kB)\n",
            "Installing collected packages: pyclustertend\n",
            "Successfully installed pyclustertend-1.4.9\n"
          ]
        }
      ],
      "source": [
        "!pip install pyclustertend"
      ]
    },
    {
      "cell_type": "code",
      "execution_count": 15,
      "metadata": {
        "ExecuteTime": {
          "end_time": "2022-09-07T10:40:30.360888Z",
          "start_time": "2022-09-07T10:40:30.013949Z"
        },
        "id": "V5h40e2hSW01"
      },
      "outputs": [],
      "source": [
        "from pyclustertend import hopkins"
      ]
    },
    {
      "cell_type": "code",
      "execution_count": 16,
      "metadata": {
        "ExecuteTime": {
          "end_time": "2022-09-07T10:40:30.376851Z",
          "start_time": "2022-09-07T10:40:30.362894Z"
        },
        "colab": {
          "base_uri": "https://localhost:8080/"
        },
        "id": "-a2EoWukSW01",
        "outputId": "eee0bf88-2010-4fc9-b56b-4b28a5171026"
      },
      "outputs": [
        {
          "output_type": "execute_result",
          "data": {
            "text/plain": [
              "0.42864521937909295"
            ]
          },
          "metadata": {},
          "execution_count": 16
        }
      ],
      "source": [
        "hopkins(df, df.shape[0])"
      ]
    },
    {
      "cell_type": "code",
      "execution_count": 17,
      "metadata": {
        "ExecuteTime": {
          "end_time": "2022-09-07T10:40:30.392856Z",
          "start_time": "2022-09-07T10:40:30.377844Z"
        },
        "id": "eFhy03TLSW01"
      },
      "outputs": [],
      "source": [
        "from sklearn.preprocessing import StandardScaler, MinMaxScaler"
      ]
    },
    {
      "cell_type": "code",
      "execution_count": 18,
      "metadata": {
        "ExecuteTime": {
          "end_time": "2022-09-07T10:40:30.408821Z",
          "start_time": "2022-09-07T10:40:30.393849Z"
        },
        "id": "-oSFzRxESW01"
      },
      "outputs": [],
      "source": [
        "df1 = df.copy()\n",
        "df2 = df.copy()"
      ]
    },
    {
      "cell_type": "code",
      "execution_count": null,
      "metadata": {
        "ExecuteTime": {
          "end_time": "2022-09-07T10:40:30.423771Z",
          "start_time": "2022-09-07T10:40:30.409823Z"
        },
        "id": "peW0HWTdSW01"
      },
      "outputs": [],
      "source": [
        "hopkins(MinMaxScaler().fit_transform(df1), df1.shape[0])"
      ]
    },
    {
      "cell_type": "code",
      "execution_count": 20,
      "metadata": {
        "ExecuteTime": {
          "end_time": "2022-09-07T10:40:30.439724Z",
          "start_time": "2022-09-07T10:40:30.424769Z"
        },
        "colab": {
          "base_uri": "https://localhost:8080/"
        },
        "id": "Ekx27bT7SW02",
        "outputId": "d2a07cea-6392-4b8c-ad53-2de0aa5e3c3f"
      },
      "outputs": [
        {
          "output_type": "execute_result",
          "data": {
            "text/plain": [
              "0.3869483087722971"
            ]
          },
          "metadata": {},
          "execution_count": 20
        }
      ],
      "source": [
        "hopkins(StandardScaler().fit_transform(df2), df2.shape[0])"
      ]
    },
    {
      "cell_type": "code",
      "execution_count": 21,
      "metadata": {
        "ExecuteTime": {
          "end_time": "2022-09-07T10:40:30.455670Z",
          "start_time": "2022-09-07T10:40:30.440715Z"
        },
        "id": "qAc2wAcXSW02"
      },
      "outputs": [],
      "source": [
        "scaler = MinMaxScaler()"
      ]
    },
    {
      "cell_type": "code",
      "execution_count": 22,
      "metadata": {
        "ExecuteTime": {
          "end_time": "2022-09-07T10:40:30.471616Z",
          "start_time": "2022-09-07T10:40:30.456661Z"
        },
        "id": "glBmLUZ1SW02"
      },
      "outputs": [],
      "source": [
        "df_scaled = scaler.fit_transform(df)"
      ]
    },
    {
      "cell_type": "code",
      "execution_count": 23,
      "metadata": {
        "ExecuteTime": {
          "end_time": "2022-09-07T10:40:30.487564Z",
          "start_time": "2022-09-07T10:40:30.472609Z"
        },
        "colab": {
          "base_uri": "https://localhost:8080/",
          "height": 206
        },
        "id": "p6t3l6A9SW02",
        "outputId": "dd3a9579-f8ea-4d8d-be1f-fd4d939f4af9"
      },
      "outputs": [
        {
          "output_type": "execute_result",
          "data": {
            "text/plain": [
              "     Murder   Assault  UrbanPop      Rape\n",
              "0  0.746988  0.654110  0.440678  0.359173\n",
              "1  0.554217  0.746575  0.271186  0.961240\n",
              "2  0.439759  0.852740  0.813559  0.612403\n",
              "3  0.481928  0.496575  0.305085  0.315245\n",
              "4  0.493976  0.791096  1.000000  0.860465"
            ],
            "text/html": [
              "\n",
              "  <div id=\"df-3bdc4884-355c-4422-96f5-e91c655a7029\">\n",
              "    <div class=\"colab-df-container\">\n",
              "      <div>\n",
              "<style scoped>\n",
              "    .dataframe tbody tr th:only-of-type {\n",
              "        vertical-align: middle;\n",
              "    }\n",
              "\n",
              "    .dataframe tbody tr th {\n",
              "        vertical-align: top;\n",
              "    }\n",
              "\n",
              "    .dataframe thead th {\n",
              "        text-align: right;\n",
              "    }\n",
              "</style>\n",
              "<table border=\"1\" class=\"dataframe\">\n",
              "  <thead>\n",
              "    <tr style=\"text-align: right;\">\n",
              "      <th></th>\n",
              "      <th>Murder</th>\n",
              "      <th>Assault</th>\n",
              "      <th>UrbanPop</th>\n",
              "      <th>Rape</th>\n",
              "    </tr>\n",
              "  </thead>\n",
              "  <tbody>\n",
              "    <tr>\n",
              "      <th>0</th>\n",
              "      <td>0.746988</td>\n",
              "      <td>0.654110</td>\n",
              "      <td>0.440678</td>\n",
              "      <td>0.359173</td>\n",
              "    </tr>\n",
              "    <tr>\n",
              "      <th>1</th>\n",
              "      <td>0.554217</td>\n",
              "      <td>0.746575</td>\n",
              "      <td>0.271186</td>\n",
              "      <td>0.961240</td>\n",
              "    </tr>\n",
              "    <tr>\n",
              "      <th>2</th>\n",
              "      <td>0.439759</td>\n",
              "      <td>0.852740</td>\n",
              "      <td>0.813559</td>\n",
              "      <td>0.612403</td>\n",
              "    </tr>\n",
              "    <tr>\n",
              "      <th>3</th>\n",
              "      <td>0.481928</td>\n",
              "      <td>0.496575</td>\n",
              "      <td>0.305085</td>\n",
              "      <td>0.315245</td>\n",
              "    </tr>\n",
              "    <tr>\n",
              "      <th>4</th>\n",
              "      <td>0.493976</td>\n",
              "      <td>0.791096</td>\n",
              "      <td>1.000000</td>\n",
              "      <td>0.860465</td>\n",
              "    </tr>\n",
              "  </tbody>\n",
              "</table>\n",
              "</div>\n",
              "      <button class=\"colab-df-convert\" onclick=\"convertToInteractive('df-3bdc4884-355c-4422-96f5-e91c655a7029')\"\n",
              "              title=\"Convert this dataframe to an interactive table.\"\n",
              "              style=\"display:none;\">\n",
              "        \n",
              "  <svg xmlns=\"http://www.w3.org/2000/svg\" height=\"24px\"viewBox=\"0 0 24 24\"\n",
              "       width=\"24px\">\n",
              "    <path d=\"M0 0h24v24H0V0z\" fill=\"none\"/>\n",
              "    <path d=\"M18.56 5.44l.94 2.06.94-2.06 2.06-.94-2.06-.94-.94-2.06-.94 2.06-2.06.94zm-11 1L8.5 8.5l.94-2.06 2.06-.94-2.06-.94L8.5 2.5l-.94 2.06-2.06.94zm10 10l.94 2.06.94-2.06 2.06-.94-2.06-.94-.94-2.06-.94 2.06-2.06.94z\"/><path d=\"M17.41 7.96l-1.37-1.37c-.4-.4-.92-.59-1.43-.59-.52 0-1.04.2-1.43.59L10.3 9.45l-7.72 7.72c-.78.78-.78 2.05 0 2.83L4 21.41c.39.39.9.59 1.41.59.51 0 1.02-.2 1.41-.59l7.78-7.78 2.81-2.81c.8-.78.8-2.07 0-2.86zM5.41 20L4 18.59l7.72-7.72 1.47 1.35L5.41 20z\"/>\n",
              "  </svg>\n",
              "      </button>\n",
              "      \n",
              "  <style>\n",
              "    .colab-df-container {\n",
              "      display:flex;\n",
              "      flex-wrap:wrap;\n",
              "      gap: 12px;\n",
              "    }\n",
              "\n",
              "    .colab-df-convert {\n",
              "      background-color: #E8F0FE;\n",
              "      border: none;\n",
              "      border-radius: 50%;\n",
              "      cursor: pointer;\n",
              "      display: none;\n",
              "      fill: #1967D2;\n",
              "      height: 32px;\n",
              "      padding: 0 0 0 0;\n",
              "      width: 32px;\n",
              "    }\n",
              "\n",
              "    .colab-df-convert:hover {\n",
              "      background-color: #E2EBFA;\n",
              "      box-shadow: 0px 1px 2px rgba(60, 64, 67, 0.3), 0px 1px 3px 1px rgba(60, 64, 67, 0.15);\n",
              "      fill: #174EA6;\n",
              "    }\n",
              "\n",
              "    [theme=dark] .colab-df-convert {\n",
              "      background-color: #3B4455;\n",
              "      fill: #D2E3FC;\n",
              "    }\n",
              "\n",
              "    [theme=dark] .colab-df-convert:hover {\n",
              "      background-color: #434B5C;\n",
              "      box-shadow: 0px 1px 3px 1px rgba(0, 0, 0, 0.15);\n",
              "      filter: drop-shadow(0px 1px 2px rgba(0, 0, 0, 0.3));\n",
              "      fill: #FFFFFF;\n",
              "    }\n",
              "  </style>\n",
              "\n",
              "      <script>\n",
              "        const buttonEl =\n",
              "          document.querySelector('#df-3bdc4884-355c-4422-96f5-e91c655a7029 button.colab-df-convert');\n",
              "        buttonEl.style.display =\n",
              "          google.colab.kernel.accessAllowed ? 'block' : 'none';\n",
              "\n",
              "        async function convertToInteractive(key) {\n",
              "          const element = document.querySelector('#df-3bdc4884-355c-4422-96f5-e91c655a7029');\n",
              "          const dataTable =\n",
              "            await google.colab.kernel.invokeFunction('convertToInteractive',\n",
              "                                                     [key], {});\n",
              "          if (!dataTable) return;\n",
              "\n",
              "          const docLinkHtml = 'Like what you see? Visit the ' +\n",
              "            '<a target=\"_blank\" href=https://colab.research.google.com/notebooks/data_table.ipynb>data table notebook</a>'\n",
              "            + ' to learn more about interactive tables.';\n",
              "          element.innerHTML = '';\n",
              "          dataTable['output_type'] = 'display_data';\n",
              "          await google.colab.output.renderOutput(dataTable, element);\n",
              "          const docLink = document.createElement('div');\n",
              "          docLink.innerHTML = docLinkHtml;\n",
              "          element.appendChild(docLink);\n",
              "        }\n",
              "      </script>\n",
              "    </div>\n",
              "  </div>\n",
              "  "
            ]
          },
          "metadata": {},
          "execution_count": 23
        }
      ],
      "source": [
        "X = pd.DataFrame(df_scaled, columns=df.columns)\n",
        "X.head()"
      ]
    },
    {
      "cell_type": "markdown",
      "metadata": {
        "id": "3G0TC6kiSW02"
      },
      "source": [
        "## Dendrogram"
      ]
    },
    {
      "cell_type": "markdown",
      "metadata": {
        "id": "tAIZk-kaSW02"
      },
      "source": [
        "- Tree-like hierarchical representation of clusters is called a dendrogram.   \n",
        "- It illustrates the arrangement of the clusters produced by the corresponding analyses."
      ]
    },
    {
      "cell_type": "code",
      "execution_count": null,
      "metadata": {
        "ExecuteTime": {
          "end_time": "2022-09-07T10:40:30.503506Z",
          "start_time": "2022-09-07T10:40:30.488555Z"
        },
        "id": "WiEqXtG2SW02"
      },
      "outputs": [],
      "source": [
        "from scipy.cluster.hierarchy import dendrogram, linkage"
      ]
    },
    {
      "cell_type": "code",
      "execution_count": null,
      "metadata": {
        "ExecuteTime": {
          "end_time": "2022-09-07T10:40:30.519454Z",
          "start_time": "2022-09-07T10:40:30.504504Z"
        },
        "id": "kYPvB8OTSW03"
      },
      "outputs": [],
      "source": [
        "#dendrogram()"
      ]
    },
    {
      "cell_type": "markdown",
      "metadata": {
        "id": "LRWa2zh1SW03"
      },
      "source": [
        "**“linkage” parameter: (default= “ward”)**\n",
        "\n",
        "  {‘ward’, ‘complete’, ‘average’, ‘single’}\n",
        "\n",
        "Which linkage criterion to use. The linkage criterion determines which distance to use between sets of observation. \n",
        "-\tWard minimizes the variance of the clusters being merged.\n",
        "-\tAverage uses the average of the distances of each observation of the two sets.\n",
        "-\tComplete or maximum linkage uses the maximum distances between all observations of the two sets.\n",
        "-\tSingle uses the minimum of the distances between all observations of the two sets.\n"
      ]
    },
    {
      "cell_type": "code",
      "execution_count": null,
      "metadata": {
        "ExecuteTime": {
          "end_time": "2022-09-07T10:40:30.535399Z",
          "start_time": "2022-09-07T10:40:30.520448Z"
        },
        "id": "zoivQ3n0SW03"
      },
      "outputs": [],
      "source": [
        "hc_ward = linkage(y = X, method = \"ward\")\n",
        "hc_complete = linkage(X, \"complete\")\n",
        "hc_average = linkage(X, \"average\")\n",
        "hc_single = linkage(X, \"single\")"
      ]
    },
    {
      "cell_type": "code",
      "execution_count": null,
      "metadata": {
        "ExecuteTime": {
          "end_time": "2022-09-07T10:40:30.995054Z",
          "start_time": "2022-09-07T10:40:30.536396Z"
        },
        "id": "0JxkXWblSW03",
        "outputId": "a3937d53-c54f-4b7b-ef58-7c7c5055cc5b"
      },
      "outputs": [
        {
          "data": {
            "image/png": "[encoded data removed]",
            "text/plain": [
              "<Figure size 1008x504 with 1 Axes>"
            ]
          },
          "metadata": {
            "needs_background": "light"
          },
          "output_type": "display_data"
        }
      ],
      "source": [
        "plt.figure(figsize = (14,7))\n",
        "dendrogram(hc_ward, leaf_font_size = 10);"
      ]
    },
    {
      "cell_type": "code",
      "execution_count": null,
      "metadata": {
        "ExecuteTime": {
          "end_time": "2022-09-07T10:40:31.090731Z",
          "start_time": "2022-09-07T10:40:30.996047Z"
        },
        "id": "sFwR-9MESW03",
        "outputId": "d6d6dea3-761f-4351-91b9-f034711e1fa5"
      },
      "outputs": [
        {
          "data": {
            "image/png": "[encoded data removed]",
            "text/plain": [
              "<Figure size 1008x504 with 1 Axes>"
            ]
          },
          "metadata": {
            "needs_background": "light"
          },
          "output_type": "display_data"
        }
      ],
      "source": [
        "plt.figure(figsize = (14,7))\n",
        "dendrogram(hc_ward,\n",
        "           truncate_mode = \"lastp\",\n",
        "           p = 10,\n",
        "           leaf_font_size = 10);"
      ]
    },
    {
      "cell_type": "code",
      "execution_count": null,
      "metadata": {
        "ExecuteTime": {
          "end_time": "2022-09-07T10:40:31.434940Z",
          "start_time": "2022-09-07T10:40:31.091727Z"
        },
        "id": "SijZ5RzPSW03",
        "outputId": "70a41012-0646-4ce6-d983-db8430c51f37"
      },
      "outputs": [
        {
          "data": {
            "image/png": "[encoded data removed]",
            "text/plain": [
              "<Figure size 1440x864 with 4 Axes>"
            ]
          },
          "metadata": {
            "needs_background": "light"
          },
          "output_type": "display_data"
        }
      ],
      "source": [
        "plt.figure(figsize = (20,12))\n",
        "\n",
        "plt.subplot(221)\n",
        "plt.title(\"Ward\")\n",
        "plt.xlabel(\"Observations\")\n",
        "plt.ylabel(\"Distance\")\n",
        "dendrogram(hc_ward, truncate_mode = \"lastp\", p = 10, leaf_font_size = 10)\n",
        "\n",
        "plt.subplot(222)\n",
        "plt.title(\"Complete\")\n",
        "plt.xlabel(\"Observations\")\n",
        "plt.ylabel(\"Distance\")\n",
        "dendrogram(hc_complete, truncate_mode = \"lastp\", p = 10, leaf_font_size = 10)\n",
        "\n",
        "plt.subplot(223)\n",
        "plt.title(\"Average\")\n",
        "plt.xlabel(\"Observations\")\n",
        "plt.ylabel(\"Distance\")\n",
        "dendrogram(hc_average, truncate_mode = \"lastp\", p = 10, leaf_font_size = 10)\n",
        "\n",
        "plt.subplot(224)\n",
        "plt.title(\"Single\")\n",
        "plt.xlabel(\"Observations\")\n",
        "plt.ylabel(\"Distance\")\n",
        "dendrogram(hc_single, truncate_mode = \"lastp\", p = 10, leaf_font_size = 10);"
      ]
    },
    {
      "cell_type": "markdown",
      "metadata": {
        "id": "Gkn8h4KpSW04"
      },
      "source": [
        "## Hierarchical Clustering (Agglomerative)"
      ]
    },
    {
      "cell_type": "markdown",
      "metadata": {
        "id": "U4gmHL9HSW04"
      },
      "source": [
        "- Ideal clustering is characterised by minimal intra cluster distance and maximal inter cluster distanc"
      ]
    },
    {
      "cell_type": "code",
      "execution_count": null,
      "metadata": {
        "ExecuteTime": {
          "end_time": "2022-09-07T10:40:31.450887Z",
          "start_time": "2022-09-07T10:40:31.435933Z"
        },
        "id": "_vxIzjGcSW04"
      },
      "outputs": [],
      "source": [
        "from sklearn.cluster import AgglomerativeClustering"
      ]
    },
    {
      "cell_type": "markdown",
      "metadata": {
        "id": "w0OXCa7rSW04"
      },
      "source": [
        "### S(Silhouette) Score"
      ]
    },
    {
      "cell_type": "markdown",
      "metadata": {
        "id": "NNfXePhiSW04"
      },
      "source": [
        "- If the ground truth labels are not known, evaluation must be performed using the model itself. (One of the evaluation method is Silhouette Coefficient)\n",
        "- A higher Silhouette Coefficient score relates to a model with better defined clusters. \n",
        "- a :The mean distance between a sample and all other points in the same class.\n",
        "  b: The mean distance between a sample and all other points in the next nearest cluster.\n",
        "\n",
        "s = (b-a) / max(a,b)"
      ]
    },
    {
      "cell_type": "code",
      "execution_count": null,
      "metadata": {
        "ExecuteTime": {
          "end_time": "2022-09-07T10:40:31.466834Z",
          "start_time": "2022-09-07T10:40:31.451881Z"
        },
        "id": "cnxC_dmcSW04"
      },
      "outputs": [],
      "source": [
        "from sklearn.metrics import silhouette_score"
      ]
    },
    {
      "cell_type": "code",
      "execution_count": null,
      "metadata": {
        "ExecuteTime": {
          "end_time": "2022-09-07T10:40:31.498727Z",
          "start_time": "2022-09-07T10:40:31.467827Z"
        },
        "id": "qBuA8MAUSW04",
        "outputId": "0dca8634-c51d-4501-959b-6661d114dc8e"
      },
      "outputs": [
        {
          "name": "stdout",
          "output_type": "stream",
          "text": [
            "Silhouette Score for 2 clusters: 0.5406742439027667\n",
            "Silhouette Score for 3 clusters: 0.35867841933636974\n",
            "Silhouette Score for 4 clusters: 0.19574129619567182\n",
            "Silhouette Score for 5 clusters: 0.08372985630683068\n",
            "Silhouette Score for 6 clusters: -0.0009786026955674342\n",
            "Silhouette Score for 7 clusters: -0.10043609614774641\n",
            "Silhouette Score for 8 clusters: -0.05885457794822918\n",
            "Silhouette Score for 9 clusters: -0.06385273624879925\n"
          ]
        }
      ],
      "source": [
        "K = range(2,10)\n",
        "\n",
        "for k in K:\n",
        "    model = AgglomerativeClustering(n_clusters = k)\n",
        "    model.fit_predict(X)\n",
        "    print(f'Silhouette Score for {k} clusters: {silhouette_score(df, model.labels_)}')"
      ]
    },
    {
      "cell_type": "code",
      "execution_count": null,
      "metadata": {
        "ExecuteTime": {
          "end_time": "2022-09-07T10:40:31.514674Z",
          "start_time": "2022-09-07T10:40:31.499720Z"
        },
        "id": "p3Si-SJJSW04"
      },
      "outputs": [],
      "source": [
        "model = AgglomerativeClustering(n_clusters=3, affinity = \"euclidean\", linkage = \"ward\")\n",
        "clusters = model.fit_predict(X)"
      ]
    },
    {
      "cell_type": "code",
      "execution_count": null,
      "metadata": {
        "ExecuteTime": {
          "end_time": "2022-09-07T10:40:31.530623Z",
          "start_time": "2022-09-07T10:40:31.515672Z"
        },
        "id": "n5wkd1oMSW05",
        "outputId": "aa90fa97-6beb-4fe8-8f1b-c07330eaa283"
      },
      "outputs": [
        {
          "data": {
            "text/html": [
              "<div>\n",
              "<style scoped>\n",
              "    .dataframe tbody tr th:only-of-type {\n",
              "        vertical-align: middle;\n",
              "    }\n",
              "\n",
              "    .dataframe tbody tr th {\n",
              "        vertical-align: top;\n",
              "    }\n",
              "\n",
              "    .dataframe thead th {\n",
              "        text-align: right;\n",
              "    }\n",
              "</style>\n",
              "<table border=\"1\" class=\"dataframe\">\n",
              "  <thead>\n",
              "    <tr style=\"text-align: right;\">\n",
              "      <th></th>\n",
              "      <th>Murder</th>\n",
              "      <th>Assault</th>\n",
              "      <th>UrbanPop</th>\n",
              "      <th>Rape</th>\n",
              "    </tr>\n",
              "  </thead>\n",
              "  <tbody>\n",
              "    <tr>\n",
              "      <th>0</th>\n",
              "      <td>0.746988</td>\n",
              "      <td>0.654110</td>\n",
              "      <td>0.440678</td>\n",
              "      <td>0.359173</td>\n",
              "    </tr>\n",
              "    <tr>\n",
              "      <th>1</th>\n",
              "      <td>0.554217</td>\n",
              "      <td>0.746575</td>\n",
              "      <td>0.271186</td>\n",
              "      <td>0.961240</td>\n",
              "    </tr>\n",
              "    <tr>\n",
              "      <th>2</th>\n",
              "      <td>0.439759</td>\n",
              "      <td>0.852740</td>\n",
              "      <td>0.813559</td>\n",
              "      <td>0.612403</td>\n",
              "    </tr>\n",
              "    <tr>\n",
              "      <th>3</th>\n",
              "      <td>0.481928</td>\n",
              "      <td>0.496575</td>\n",
              "      <td>0.305085</td>\n",
              "      <td>0.315245</td>\n",
              "    </tr>\n",
              "    <tr>\n",
              "      <th>4</th>\n",
              "      <td>0.493976</td>\n",
              "      <td>0.791096</td>\n",
              "      <td>1.000000</td>\n",
              "      <td>0.860465</td>\n",
              "    </tr>\n",
              "  </tbody>\n",
              "</table>\n",
              "</div>"
            ],
            "text/plain": [
              "     Murder   Assault  UrbanPop      Rape\n",
              "0  0.746988  0.654110  0.440678  0.359173\n",
              "1  0.554217  0.746575  0.271186  0.961240\n",
              "2  0.439759  0.852740  0.813559  0.612403\n",
              "3  0.481928  0.496575  0.305085  0.315245\n",
              "4  0.493976  0.791096  1.000000  0.860465"
            ]
          },
          "execution_count": 30,
          "metadata": {},
          "output_type": "execute_result"
        }
      ],
      "source": [
        "X.head()"
      ]
    },
    {
      "cell_type": "code",
      "execution_count": null,
      "metadata": {
        "ExecuteTime": {
          "end_time": "2022-09-07T10:40:32.176438Z",
          "start_time": "2022-09-07T10:40:31.531613Z"
        },
        "id": "wIxz5KEMSW05",
        "outputId": "130aafc1-9205-43c1-c7f1-9e7b83748d33"
      },
      "outputs": [
        {
          "data": {
            "image/png": "[encoded data removed]",
            "text/plain": [
              "<Figure size 1440x1296 with 12 Axes>"
            ]
          },
          "metadata": {
            "needs_background": "light"
          },
          "output_type": "display_data"
        }
      ],
      "source": [
        "plt.figure(figsize = (20,18))\n",
        "plot_number = 1\n",
        "for i in X:\n",
        "    for j in X:\n",
        "        if j!=i:\n",
        "            plt.subplot(4,3,plot_number)\n",
        "            plt.scatter(X[j], X[i], c = clusters, cmap = \"viridis\")\n",
        "            plt.xlabel(j)\n",
        "            plt.ylabel(i)\n",
        "            plot_number += 1"
      ]
    },
    {
      "cell_type": "code",
      "execution_count": null,
      "metadata": {
        "ExecuteTime": {
          "end_time": "2022-09-07T10:40:32.192316Z",
          "start_time": "2022-09-07T10:40:32.177375Z"
        },
        "id": "J0UJrbZgSW05",
        "outputId": "0bf73797-3b54-46fa-8013-66b668f82c49"
      },
      "outputs": [
        {
          "data": {
            "text/html": [
              "<div>\n",
              "<style scoped>\n",
              "    .dataframe tbody tr th:only-of-type {\n",
              "        vertical-align: middle;\n",
              "    }\n",
              "\n",
              "    .dataframe tbody tr th {\n",
              "        vertical-align: top;\n",
              "    }\n",
              "\n",
              "    .dataframe thead th {\n",
              "        text-align: right;\n",
              "    }\n",
              "</style>\n",
              "<table border=\"1\" class=\"dataframe\">\n",
              "  <thead>\n",
              "    <tr style=\"text-align: right;\">\n",
              "      <th></th>\n",
              "      <th>Murder</th>\n",
              "      <th>Assault</th>\n",
              "      <th>UrbanPop</th>\n",
              "      <th>Rape</th>\n",
              "      <th>cluster</th>\n",
              "    </tr>\n",
              "  </thead>\n",
              "  <tbody>\n",
              "    <tr>\n",
              "      <th>0</th>\n",
              "      <td>0.746988</td>\n",
              "      <td>0.654110</td>\n",
              "      <td>0.440678</td>\n",
              "      <td>0.359173</td>\n",
              "      <td>0</td>\n",
              "    </tr>\n",
              "    <tr>\n",
              "      <th>1</th>\n",
              "      <td>0.554217</td>\n",
              "      <td>0.746575</td>\n",
              "      <td>0.271186</td>\n",
              "      <td>0.961240</td>\n",
              "      <td>0</td>\n",
              "    </tr>\n",
              "    <tr>\n",
              "      <th>2</th>\n",
              "      <td>0.439759</td>\n",
              "      <td>0.852740</td>\n",
              "      <td>0.813559</td>\n",
              "      <td>0.612403</td>\n",
              "      <td>0</td>\n",
              "    </tr>\n",
              "    <tr>\n",
              "      <th>3</th>\n",
              "      <td>0.481928</td>\n",
              "      <td>0.496575</td>\n",
              "      <td>0.305085</td>\n",
              "      <td>0.315245</td>\n",
              "      <td>1</td>\n",
              "    </tr>\n",
              "    <tr>\n",
              "      <th>4</th>\n",
              "      <td>0.493976</td>\n",
              "      <td>0.791096</td>\n",
              "      <td>1.000000</td>\n",
              "      <td>0.860465</td>\n",
              "      <td>0</td>\n",
              "    </tr>\n",
              "  </tbody>\n",
              "</table>\n",
              "</div>"
            ],
            "text/plain": [
              "     Murder   Assault  UrbanPop      Rape  cluster\n",
              "0  0.746988  0.654110  0.440678  0.359173        0\n",
              "1  0.554217  0.746575  0.271186  0.961240        0\n",
              "2  0.439759  0.852740  0.813559  0.612403        0\n",
              "3  0.481928  0.496575  0.305085  0.315245        1\n",
              "4  0.493976  0.791096  1.000000  0.860465        0"
            ]
          },
          "execution_count": 32,
          "metadata": {},
          "output_type": "execute_result"
        }
      ],
      "source": [
        "X[\"cluster\"] = clusters\n",
        "X.head()"
      ]
    },
    {
      "cell_type": "code",
      "execution_count": null,
      "metadata": {
        "ExecuteTime": {
          "end_time": "2022-09-07T10:40:32.208263Z",
          "start_time": "2022-09-07T10:40:32.193314Z"
        },
        "scrolled": true,
        "id": "lXJk2ebmSW05",
        "outputId": "d9ee8c5d-7a92-4981-b087-1418d863d6a8"
      },
      "outputs": [
        {
          "data": {
            "text/html": [
              "<div>\n",
              "<style scoped>\n",
              "    .dataframe tbody tr th:only-of-type {\n",
              "        vertical-align: middle;\n",
              "    }\n",
              "\n",
              "    .dataframe tbody tr th {\n",
              "        vertical-align: top;\n",
              "    }\n",
              "\n",
              "    .dataframe thead th {\n",
              "        text-align: right;\n",
              "    }\n",
              "</style>\n",
              "<table border=\"1\" class=\"dataframe\">\n",
              "  <thead>\n",
              "    <tr style=\"text-align: right;\">\n",
              "      <th>cluster</th>\n",
              "      <th>0</th>\n",
              "      <th>1</th>\n",
              "      <th>2</th>\n",
              "    </tr>\n",
              "  </thead>\n",
              "  <tbody>\n",
              "    <tr>\n",
              "      <th>Murder</th>\n",
              "      <td>0.684639</td>\n",
              "      <td>0.316600</td>\n",
              "      <td>0.138052</td>\n",
              "    </tr>\n",
              "    <tr>\n",
              "      <th>Assault</th>\n",
              "      <td>0.720034</td>\n",
              "      <td>0.325533</td>\n",
              "      <td>0.106164</td>\n",
              "    </tr>\n",
              "    <tr>\n",
              "      <th>UrbanPop</th>\n",
              "      <td>0.616949</td>\n",
              "      <td>0.666667</td>\n",
              "      <td>0.340395</td>\n",
              "    </tr>\n",
              "    <tr>\n",
              "      <th>Rape</th>\n",
              "      <td>0.564987</td>\n",
              "      <td>0.294143</td>\n",
              "      <td>0.117140</td>\n",
              "    </tr>\n",
              "  </tbody>\n",
              "</table>\n",
              "</div>"
            ],
            "text/plain": [
              "cluster          0         1         2\n",
              "Murder    0.684639  0.316600  0.138052\n",
              "Assault   0.720034  0.325533  0.106164\n",
              "UrbanPop  0.616949  0.666667  0.340395\n",
              "Rape      0.564987  0.294143  0.117140"
            ]
          },
          "execution_count": 33,
          "metadata": {},
          "output_type": "execute_result"
        }
      ],
      "source": [
        "clus_pred = X.groupby(\"cluster\").mean().T\n",
        "clus_pred"
      ]
    },
    {
      "cell_type": "code",
      "execution_count": null,
      "metadata": {
        "ExecuteTime": {
          "end_time": "2022-09-07T10:40:32.315992Z",
          "start_time": "2022-09-07T10:40:32.209260Z"
        },
        "id": "9OmnoafdSW05",
        "outputId": "8902f03a-a4f9-4fdc-c286-a0ab95879e9d"
      },
      "outputs": [
        {
          "data": {
            "text/plain": [
              "<AxesSubplot:>"
            ]
          },
          "execution_count": 34,
          "metadata": {},
          "output_type": "execute_result"
        },
        {
          "data": {
            "image/png": "[encoded data removed]",
            "text/plain": [
              "<Figure size 720x432 with 1 Axes>"
            ]
          },
          "metadata": {
            "needs_background": "light"
          },
          "output_type": "display_data"
        }
      ],
      "source": [
        "sns.lineplot(data = clus_pred)"
      ]
    },
    {
      "cell_type": "code",
      "execution_count": null,
      "metadata": {
        "ExecuteTime": {
          "end_time": "2022-09-07T10:40:32.568157Z",
          "start_time": "2022-09-07T10:40:32.316993Z"
        },
        "id": "cekOSI7ISW05",
        "outputId": "20b09da1-b8a2-4d55-9915-1208ec0f13e3"
      },
      "outputs": [
        {
          "data": {
            "image/png": "[encoded data removed]",
            "text/plain": [
              "<Figure size 1440x432 with 4 Axes>"
            ]
          },
          "metadata": {
            "needs_background": "light"
          },
          "output_type": "display_data"
        }
      ],
      "source": [
        "plt.figure(figsize = (20,6))\n",
        "\n",
        "plt.subplot(141)\n",
        "sns.boxplot(y = \"Murder\", x = \"cluster\", data = X)\n",
        "\n",
        "plt.subplot(142)\n",
        "sns.boxplot(y = \"Assault\", x = \"cluster\", data = X)\n",
        "\n",
        "plt.subplot(143)\n",
        "sns.boxplot(y = \"Rape\", x = \"cluster\", data = X)\n",
        "\n",
        "plt.subplot(144)\n",
        "sns.boxplot(y = \"UrbanPop\", x = \"cluster\", data = X);"
      ]
    },
    {
      "cell_type": "code",
      "execution_count": null,
      "metadata": {
        "ExecuteTime": {
          "end_time": "2022-09-07T10:40:32.584105Z",
          "start_time": "2022-09-07T10:40:32.569150Z"
        },
        "id": "kMFpzCR3SW05",
        "outputId": "f18aea12-eda5-49c4-839d-46ce094ea8ae"
      },
      "outputs": [
        {
          "data": {
            "text/plain": [
              "0    20\n",
              "1    18\n",
              "2    12\n",
              "Name: cluster, dtype: int64"
            ]
          },
          "execution_count": 36,
          "metadata": {},
          "output_type": "execute_result"
        }
      ],
      "source": [
        "X.cluster.value_counts()"
      ]
    },
    {
      "cell_type": "raw",
      "metadata": {
        "id": "se2bgyAESW05"
      },
      "source": [
        "0    20\n",
        "1    18\n",
        "2    12"
      ]
    },
    {
      "cell_type": "code",
      "execution_count": null,
      "metadata": {
        "ExecuteTime": {
          "end_time": "2022-09-07T10:40:32.600051Z",
          "start_time": "2022-09-07T10:40:32.585096Z"
        },
        "id": "r5f7vXfTSW05",
        "outputId": "2811ca6b-0b13-4edb-8ee6-4cce25aee095"
      },
      "outputs": [
        {
          "data": {
            "text/html": [
              "<div>\n",
              "<style scoped>\n",
              "    .dataframe tbody tr th:only-of-type {\n",
              "        vertical-align: middle;\n",
              "    }\n",
              "\n",
              "    .dataframe tbody tr th {\n",
              "        vertical-align: top;\n",
              "    }\n",
              "\n",
              "    .dataframe thead th {\n",
              "        text-align: right;\n",
              "    }\n",
              "</style>\n",
              "<table border=\"1\" class=\"dataframe\">\n",
              "  <thead>\n",
              "    <tr style=\"text-align: right;\">\n",
              "      <th></th>\n",
              "      <th>Murder</th>\n",
              "      <th>Assault</th>\n",
              "      <th>Rape</th>\n",
              "    </tr>\n",
              "  </thead>\n",
              "  <tbody>\n",
              "    <tr>\n",
              "      <th>0</th>\n",
              "      <td>0.746988</td>\n",
              "      <td>0.654110</td>\n",
              "      <td>0.359173</td>\n",
              "    </tr>\n",
              "    <tr>\n",
              "      <th>1</th>\n",
              "      <td>0.554217</td>\n",
              "      <td>0.746575</td>\n",
              "      <td>0.961240</td>\n",
              "    </tr>\n",
              "    <tr>\n",
              "      <th>2</th>\n",
              "      <td>0.439759</td>\n",
              "      <td>0.852740</td>\n",
              "      <td>0.612403</td>\n",
              "    </tr>\n",
              "    <tr>\n",
              "      <th>3</th>\n",
              "      <td>0.481928</td>\n",
              "      <td>0.496575</td>\n",
              "      <td>0.315245</td>\n",
              "    </tr>\n",
              "    <tr>\n",
              "      <th>4</th>\n",
              "      <td>0.493976</td>\n",
              "      <td>0.791096</td>\n",
              "      <td>0.860465</td>\n",
              "    </tr>\n",
              "  </tbody>\n",
              "</table>\n",
              "</div>"
            ],
            "text/plain": [
              "     Murder   Assault      Rape\n",
              "0  0.746988  0.654110  0.359173\n",
              "1  0.554217  0.746575  0.961240\n",
              "2  0.439759  0.852740  0.612403\n",
              "3  0.481928  0.496575  0.315245\n",
              "4  0.493976  0.791096  0.860465"
            ]
          },
          "execution_count": 37,
          "metadata": {},
          "output_type": "execute_result"
        }
      ],
      "source": [
        "X2 = X.iloc[:, [0,1,3]]\n",
        "X2.head()"
      ]
    },
    {
      "cell_type": "markdown",
      "metadata": {
        "id": "lLwYIZWLSW05"
      },
      "source": [
        "## Hopkins test"
      ]
    },
    {
      "cell_type": "code",
      "execution_count": null,
      "metadata": {
        "ExecuteTime": {
          "end_time": "2022-09-07T10:40:32.616000Z",
          "start_time": "2022-09-07T10:40:32.601043Z"
        },
        "id": "BJBIZPh_SW06",
        "outputId": "dbe44d7f-5d2c-4696-f22a-531bf4edc555"
      },
      "outputs": [
        {
          "data": {
            "text/plain": [
              "0.3378035759900971"
            ]
          },
          "execution_count": 38,
          "metadata": {},
          "output_type": "execute_result"
        }
      ],
      "source": [
        "hopkins(X2, X2.shape[0])"
      ]
    },
    {
      "cell_type": "raw",
      "metadata": {
        "id": "DU3D-86SSW06"
      },
      "source": [
        "0.3779127955224929"
      ]
    },
    {
      "cell_type": "code",
      "execution_count": null,
      "metadata": {
        "ExecuteTime": {
          "end_time": "2022-09-07T10:40:32.631940Z",
          "start_time": "2022-09-07T10:40:32.620977Z"
        },
        "id": "ZhuGSjgsSW06"
      },
      "outputs": [],
      "source": [
        "hc_ward = linkage(y = X2, method = \"ward\")\n",
        "hc_complete = linkage(X2, \"complete\")\n",
        "hc_average = linkage(X2, \"average\")\n",
        "hc_single = linkage(X2, \"single\")"
      ]
    },
    {
      "cell_type": "code",
      "execution_count": null,
      "metadata": {
        "ExecuteTime": {
          "end_time": "2022-09-07T10:40:33.102420Z",
          "start_time": "2022-09-07T10:40:32.632937Z"
        },
        "id": "h8vKzV3nSW06",
        "outputId": "1e3d1bbe-ea1d-4310-c85e-848b93f5281a"
      },
      "outputs": [
        {
          "data": {
            "image/png": "[encoded data removed]",
            "text/plain": [
              "<Figure size 1440x864 with 4 Axes>"
            ]
          },
          "metadata": {
            "needs_background": "light"
          },
          "output_type": "display_data"
        }
      ],
      "source": [
        "plt.figure(figsize = (20,12))\n",
        "\n",
        "plt.subplot(221)\n",
        "plt.title(\"Ward\")\n",
        "plt.xlabel(\"Observations\")\n",
        "plt.ylabel(\"Distance\")\n",
        "dendrogram(hc_ward, truncate_mode = \"lastp\", p = 10, leaf_font_size = 10)\n",
        "\n",
        "plt.subplot(222)\n",
        "plt.title(\"Complete\")\n",
        "plt.xlabel(\"Observations\")\n",
        "plt.ylabel(\"Distance\")\n",
        "dendrogram(hc_complete, truncate_mode = \"lastp\", p = 10, leaf_font_size = 10)\n",
        "\n",
        "plt.subplot(223)\n",
        "plt.title(\"Average\")\n",
        "plt.xlabel(\"Observations\")\n",
        "plt.ylabel(\"Distance\")\n",
        "dendrogram(hc_average, truncate_mode = \"lastp\", p = 10, leaf_font_size = 10)\n",
        "\n",
        "plt.subplot(224)\n",
        "plt.title(\"Single\")\n",
        "plt.xlabel(\"Observations\")\n",
        "plt.ylabel(\"Distance\")\n",
        "dendrogram(hc_single, truncate_mode = \"lastp\", p = 10, leaf_font_size = 10);"
      ]
    },
    {
      "cell_type": "code",
      "execution_count": null,
      "metadata": {
        "ExecuteTime": {
          "end_time": "2022-09-07T10:40:33.132318Z",
          "start_time": "2022-09-07T10:40:33.103420Z"
        },
        "id": "EwMx6Q-zSW06",
        "outputId": "e37bb263-ef31-44b0-bab3-71e5f968e541"
      },
      "outputs": [
        {
          "name": "stdout",
          "output_type": "stream",
          "text": [
            "Silhouette Score for 2 clusters: 0.5406742439027667\n",
            "Silhouette Score for 3 clusters: 0.33193668766161594\n",
            "Silhouette Score for 4 clusters: 0.13774732005543386\n",
            "Silhouette Score for 5 clusters: 0.13269348844287665\n",
            "Silhouette Score for 6 clusters: 0.051863884277307114\n",
            "Silhouette Score for 7 clusters: -0.05791022756192905\n",
            "Silhouette Score for 8 clusters: -0.06533546010208166\n",
            "Silhouette Score for 9 clusters: -0.025411681669985392\n",
            "Silhouette Score for 10 clusters: 0.02417352208175959\n"
          ]
        }
      ],
      "source": [
        "K = range(2,11)\n",
        "\n",
        "for k in K:\n",
        "    model = AgglomerativeClustering(n_clusters = k)\n",
        "    model.fit_predict(X2)\n",
        "    print(f'Silhouette Score for {k} clusters: {silhouette_score(df, model.labels_)}')"
      ]
    },
    {
      "cell_type": "raw",
      "metadata": {
        "id": "6g6_LuLiSW06"
      },
      "source": [
        "Silhouette Score for 2 clusters: 0.5406742439027667\n",
        "Silhouette Score for 3 clusters: 0.35867841933636974\n",
        "Silhouette Score for 4 clusters: 0.19574129619567182\n",
        "Silhouette Score for 5 clusters: 0.08372985630683068\n",
        "Silhouette Score for 6 clusters: -0.0009786026955674342\n",
        "Silhouette Score for 7 clusters: -0.10043609614774641\n",
        "Silhouette Score for 8 clusters: -0.05885457794822918\n",
        "Silhouette Score for 9 clusters: -0.06385273624879925"
      ]
    },
    {
      "cell_type": "code",
      "execution_count": null,
      "metadata": {
        "ExecuteTime": {
          "end_time": "2022-09-07T10:40:33.417550Z",
          "start_time": "2022-09-07T10:40:33.133315Z"
        },
        "id": "E6lR6D-VSW06"
      },
      "outputs": [],
      "source": [
        "final_model = AgglomerativeClustering(n_clusters=3, affinity = \"euclidean\", linkage = \"ward\")\n",
        "clusters = final_model.fit_predict(X2)\n",
        "X2[\"cluster\"] = clusters"
      ]
    },
    {
      "cell_type": "code",
      "execution_count": null,
      "metadata": {
        "ExecuteTime": {
          "end_time": "2022-09-07T10:40:33.433497Z",
          "start_time": "2022-09-07T10:40:33.418547Z"
        },
        "id": "q1ZFBh6rSW06",
        "outputId": "9bd9aee3-794d-45d5-fe57-9407bb5e4b7c"
      },
      "outputs": [
        {
          "data": {
            "text/plain": [
              "0    20\n",
              "1    17\n",
              "2    13\n",
              "Name: cluster, dtype: int64"
            ]
          },
          "execution_count": 43,
          "metadata": {},
          "output_type": "execute_result"
        }
      ],
      "source": [
        "X2.cluster.value_counts()"
      ]
    },
    {
      "cell_type": "code",
      "execution_count": null,
      "metadata": {
        "ExecuteTime": {
          "end_time": "2022-09-07T10:40:33.682911Z",
          "start_time": "2022-09-07T10:40:33.434494Z"
        },
        "id": "JOLVBm70SW06",
        "outputId": "f246d613-f362-4243-e2f8-7f68b0f38c6c"
      },
      "outputs": [
        {
          "data": {
            "text/plain": [
              "<AxesSubplot:xlabel='cluster', ylabel='Rape'>"
            ]
          },
          "execution_count": 44,
          "metadata": {},
          "output_type": "execute_result"
        },
        {
          "data": {
            "image/png": "[encoded data removed]",
            "text/plain": [
              "<Figure size 1440x432 with 3 Axes>"
            ]
          },
          "metadata": {
            "needs_background": "light"
          },
          "output_type": "display_data"
        }
      ],
      "source": [
        "plt.figure(figsize = (20,6))\n",
        "\n",
        "plt.subplot(131)\n",
        "sns.boxplot(y = \"Murder\", x = \"cluster\", data = X2)\n",
        "\n",
        "plt.subplot(132)\n",
        "sns.boxplot(y = \"Assault\", x = \"cluster\", data = X2)\n",
        "\n",
        "plt.subplot(133)\n",
        "sns.boxplot(y = \"Rape\", x = \"cluster\", data = X2)"
      ]
    },
    {
      "cell_type": "markdown",
      "metadata": {
        "id": "70ssvz-OSW06"
      },
      "source": [
        "**Evaluation**\n",
        "\n",
        "- 0 : states with high crime rates\n",
        "- 1 : states with low crime rates\n",
        "- 2 : states with medium crime rates"
      ]
    },
    {
      "cell_type": "code",
      "execution_count": null,
      "metadata": {
        "ExecuteTime": {
          "end_time": "2022-09-07T10:40:33.698856Z",
          "start_time": "2022-09-07T10:40:33.683904Z"
        },
        "id": "w6srs0eBSW07",
        "outputId": "4605441e-d13d-456f-a384-9d70c26baaa8"
      },
      "outputs": [
        {
          "data": {
            "text/html": [
              "<div>\n",
              "<style scoped>\n",
              "    .dataframe tbody tr th:only-of-type {\n",
              "        vertical-align: middle;\n",
              "    }\n",
              "\n",
              "    .dataframe tbody tr th {\n",
              "        vertical-align: top;\n",
              "    }\n",
              "\n",
              "    .dataframe thead th {\n",
              "        text-align: right;\n",
              "    }\n",
              "</style>\n",
              "<table border=\"1\" class=\"dataframe\">\n",
              "  <thead>\n",
              "    <tr style=\"text-align: right;\">\n",
              "      <th></th>\n",
              "      <th>Murder</th>\n",
              "      <th>Assault</th>\n",
              "      <th>Rape</th>\n",
              "      <th>cluster</th>\n",
              "      <th>crime_level</th>\n",
              "    </tr>\n",
              "  </thead>\n",
              "  <tbody>\n",
              "    <tr>\n",
              "      <th>0</th>\n",
              "      <td>0.746988</td>\n",
              "      <td>0.654110</td>\n",
              "      <td>0.359173</td>\n",
              "      <td>0</td>\n",
              "      <td>high</td>\n",
              "    </tr>\n",
              "    <tr>\n",
              "      <th>1</th>\n",
              "      <td>0.554217</td>\n",
              "      <td>0.746575</td>\n",
              "      <td>0.961240</td>\n",
              "      <td>0</td>\n",
              "      <td>high</td>\n",
              "    </tr>\n",
              "    <tr>\n",
              "      <th>2</th>\n",
              "      <td>0.439759</td>\n",
              "      <td>0.852740</td>\n",
              "      <td>0.612403</td>\n",
              "      <td>0</td>\n",
              "      <td>high</td>\n",
              "    </tr>\n",
              "    <tr>\n",
              "      <th>3</th>\n",
              "      <td>0.481928</td>\n",
              "      <td>0.496575</td>\n",
              "      <td>0.315245</td>\n",
              "      <td>2</td>\n",
              "      <td>medium</td>\n",
              "    </tr>\n",
              "    <tr>\n",
              "      <th>4</th>\n",
              "      <td>0.493976</td>\n",
              "      <td>0.791096</td>\n",
              "      <td>0.860465</td>\n",
              "      <td>0</td>\n",
              "      <td>high</td>\n",
              "    </tr>\n",
              "  </tbody>\n",
              "</table>\n",
              "</div>"
            ],
            "text/plain": [
              "     Murder   Assault      Rape  cluster crime_level\n",
              "0  0.746988  0.654110  0.359173        0        high\n",
              "1  0.554217  0.746575  0.961240        0        high\n",
              "2  0.439759  0.852740  0.612403        0        high\n",
              "3  0.481928  0.496575  0.315245        2      medium\n",
              "4  0.493976  0.791096  0.860465        0        high"
            ]
          },
          "execution_count": 45,
          "metadata": {},
          "output_type": "execute_result"
        }
      ],
      "source": [
        "X2[\"crime_level\"] = X2[\"cluster\"].map({0:\"high\", 1:\"low\",2:\"medium\"})\n",
        "X2.head()"
      ]
    },
    {
      "cell_type": "code",
      "execution_count": null,
      "metadata": {
        "ExecuteTime": {
          "end_time": "2022-09-07T10:40:33.714805Z",
          "start_time": "2022-09-07T10:40:33.700850Z"
        },
        "id": "07n07fz7SW07",
        "outputId": "e09e109c-cf74-4e78-e11d-5414f1713151"
      },
      "outputs": [
        {
          "data": {
            "text/plain": [
              "Index(['Alabama', 'Alaska', 'Arizona', 'Arkansas', 'California', 'Colorado',\n",
              "       'Connecticut', 'Delaware', 'Florida', 'Georgia', 'Hawaii', 'Idaho',\n",
              "       'Illinois', 'Indiana', 'Iowa', 'Kansas', 'Kentucky', 'Louisiana',\n",
              "       'Maine', 'Maryland', 'Massachusetts', 'Michigan', 'Minnesota',\n",
              "       'Mississippi', 'Missouri', 'Montana', 'Nebraska', 'Nevada',\n",
              "       'New Hampshire', 'New Jersey', 'New Mexico', 'New York',\n",
              "       'North Carolina', 'North Dakota', 'Ohio', 'Oklahoma', 'Oregon',\n",
              "       'Pennsylvania', 'Rhode Island', 'South Carolina', 'South Dakota',\n",
              "       'Tennessee', 'Texas', 'Utah', 'Vermont', 'Virginia', 'Washington',\n",
              "       'West Virginia', 'Wisconsin', 'Wyoming'],\n",
              "      dtype='object')"
            ]
          },
          "execution_count": 46,
          "metadata": {},
          "output_type": "execute_result"
        }
      ],
      "source": [
        "df.index"
      ]
    },
    {
      "cell_type": "code",
      "execution_count": null,
      "metadata": {
        "ExecuteTime": {
          "end_time": "2022-09-07T10:40:33.730760Z",
          "start_time": "2022-09-07T10:40:33.715801Z"
        },
        "id": "AvAGrIxRSW07",
        "outputId": "361cc358-3e24-4da0-aa6a-b80d644fc187"
      },
      "outputs": [
        {
          "data": {
            "text/html": [
              "<div>\n",
              "<style scoped>\n",
              "    .dataframe tbody tr th:only-of-type {\n",
              "        vertical-align: middle;\n",
              "    }\n",
              "\n",
              "    .dataframe tbody tr th {\n",
              "        vertical-align: top;\n",
              "    }\n",
              "\n",
              "    .dataframe thead th {\n",
              "        text-align: right;\n",
              "    }\n",
              "</style>\n",
              "<table border=\"1\" class=\"dataframe\">\n",
              "  <thead>\n",
              "    <tr style=\"text-align: right;\">\n",
              "      <th></th>\n",
              "      <th>Murder</th>\n",
              "      <th>Assault</th>\n",
              "      <th>Rape</th>\n",
              "      <th>cluster</th>\n",
              "      <th>crime_level</th>\n",
              "      <th>States</th>\n",
              "    </tr>\n",
              "  </thead>\n",
              "  <tbody>\n",
              "    <tr>\n",
              "      <th>0</th>\n",
              "      <td>0.746988</td>\n",
              "      <td>0.654110</td>\n",
              "      <td>0.359173</td>\n",
              "      <td>0</td>\n",
              "      <td>high</td>\n",
              "      <td>Alabama</td>\n",
              "    </tr>\n",
              "    <tr>\n",
              "      <th>1</th>\n",
              "      <td>0.554217</td>\n",
              "      <td>0.746575</td>\n",
              "      <td>0.961240</td>\n",
              "      <td>0</td>\n",
              "      <td>high</td>\n",
              "      <td>Alaska</td>\n",
              "    </tr>\n",
              "    <tr>\n",
              "      <th>2</th>\n",
              "      <td>0.439759</td>\n",
              "      <td>0.852740</td>\n",
              "      <td>0.612403</td>\n",
              "      <td>0</td>\n",
              "      <td>high</td>\n",
              "      <td>Arizona</td>\n",
              "    </tr>\n",
              "    <tr>\n",
              "      <th>3</th>\n",
              "      <td>0.481928</td>\n",
              "      <td>0.496575</td>\n",
              "      <td>0.315245</td>\n",
              "      <td>2</td>\n",
              "      <td>medium</td>\n",
              "      <td>Arkansas</td>\n",
              "    </tr>\n",
              "    <tr>\n",
              "      <th>4</th>\n",
              "      <td>0.493976</td>\n",
              "      <td>0.791096</td>\n",
              "      <td>0.860465</td>\n",
              "      <td>0</td>\n",
              "      <td>high</td>\n",
              "      <td>California</td>\n",
              "    </tr>\n",
              "    <tr>\n",
              "      <th>5</th>\n",
              "      <td>0.427711</td>\n",
              "      <td>0.544521</td>\n",
              "      <td>0.811370</td>\n",
              "      <td>0</td>\n",
              "      <td>high</td>\n",
              "      <td>Colorado</td>\n",
              "    </tr>\n",
              "    <tr>\n",
              "      <th>6</th>\n",
              "      <td>0.150602</td>\n",
              "      <td>0.222603</td>\n",
              "      <td>0.098191</td>\n",
              "      <td>1</td>\n",
              "      <td>low</td>\n",
              "      <td>Connecticut</td>\n",
              "    </tr>\n",
              "    <tr>\n",
              "      <th>7</th>\n",
              "      <td>0.307229</td>\n",
              "      <td>0.660959</td>\n",
              "      <td>0.219638</td>\n",
              "      <td>2</td>\n",
              "      <td>medium</td>\n",
              "      <td>Delaware</td>\n",
              "    </tr>\n",
              "    <tr>\n",
              "      <th>8</th>\n",
              "      <td>0.879518</td>\n",
              "      <td>0.993151</td>\n",
              "      <td>0.635659</td>\n",
              "      <td>0</td>\n",
              "      <td>high</td>\n",
              "      <td>Florida</td>\n",
              "    </tr>\n",
              "    <tr>\n",
              "      <th>9</th>\n",
              "      <td>1.000000</td>\n",
              "      <td>0.568493</td>\n",
              "      <td>0.478036</td>\n",
              "      <td>0</td>\n",
              "      <td>high</td>\n",
              "      <td>Georgia</td>\n",
              "    </tr>\n",
              "    <tr>\n",
              "      <th>10</th>\n",
              "      <td>0.271084</td>\n",
              "      <td>0.003425</td>\n",
              "      <td>0.333333</td>\n",
              "      <td>1</td>\n",
              "      <td>low</td>\n",
              "      <td>Hawaii</td>\n",
              "    </tr>\n",
              "    <tr>\n",
              "      <th>11</th>\n",
              "      <td>0.108434</td>\n",
              "      <td>0.256849</td>\n",
              "      <td>0.178295</td>\n",
              "      <td>1</td>\n",
              "      <td>low</td>\n",
              "      <td>Idaho</td>\n",
              "    </tr>\n",
              "    <tr>\n",
              "      <th>12</th>\n",
              "      <td>0.578313</td>\n",
              "      <td>0.698630</td>\n",
              "      <td>0.431525</td>\n",
              "      <td>0</td>\n",
              "      <td>high</td>\n",
              "      <td>Illinois</td>\n",
              "    </tr>\n",
              "    <tr>\n",
              "      <th>13</th>\n",
              "      <td>0.385542</td>\n",
              "      <td>0.232877</td>\n",
              "      <td>0.354005</td>\n",
              "      <td>2</td>\n",
              "      <td>medium</td>\n",
              "      <td>Indiana</td>\n",
              "    </tr>\n",
              "    <tr>\n",
              "      <th>14</th>\n",
              "      <td>0.084337</td>\n",
              "      <td>0.037671</td>\n",
              "      <td>0.103359</td>\n",
              "      <td>1</td>\n",
              "      <td>low</td>\n",
              "      <td>Iowa</td>\n",
              "    </tr>\n",
              "    <tr>\n",
              "      <th>15</th>\n",
              "      <td>0.313253</td>\n",
              "      <td>0.239726</td>\n",
              "      <td>0.276486</td>\n",
              "      <td>1</td>\n",
              "      <td>low</td>\n",
              "      <td>Kansas</td>\n",
              "    </tr>\n",
              "    <tr>\n",
              "      <th>16</th>\n",
              "      <td>0.536145</td>\n",
              "      <td>0.219178</td>\n",
              "      <td>0.232558</td>\n",
              "      <td>2</td>\n",
              "      <td>medium</td>\n",
              "      <td>Kentucky</td>\n",
              "    </tr>\n",
              "    <tr>\n",
              "      <th>17</th>\n",
              "      <td>0.879518</td>\n",
              "      <td>0.698630</td>\n",
              "      <td>0.385013</td>\n",
              "      <td>0</td>\n",
              "      <td>high</td>\n",
              "      <td>Louisiana</td>\n",
              "    </tr>\n",
              "    <tr>\n",
              "      <th>18</th>\n",
              "      <td>0.078313</td>\n",
              "      <td>0.130137</td>\n",
              "      <td>0.012920</td>\n",
              "      <td>1</td>\n",
              "      <td>low</td>\n",
              "      <td>Maine</td>\n",
              "    </tr>\n",
              "    <tr>\n",
              "      <th>19</th>\n",
              "      <td>0.632530</td>\n",
              "      <td>0.873288</td>\n",
              "      <td>0.529716</td>\n",
              "      <td>0</td>\n",
              "      <td>high</td>\n",
              "      <td>Maryland</td>\n",
              "    </tr>\n",
              "    <tr>\n",
              "      <th>20</th>\n",
              "      <td>0.216867</td>\n",
              "      <td>0.356164</td>\n",
              "      <td>0.232558</td>\n",
              "      <td>1</td>\n",
              "      <td>low</td>\n",
              "      <td>Massachusetts</td>\n",
              "    </tr>\n",
              "    <tr>\n",
              "      <th>21</th>\n",
              "      <td>0.680723</td>\n",
              "      <td>0.719178</td>\n",
              "      <td>0.718346</td>\n",
              "      <td>0</td>\n",
              "      <td>high</td>\n",
              "      <td>Michigan</td>\n",
              "    </tr>\n",
              "    <tr>\n",
              "      <th>22</th>\n",
              "      <td>0.114458</td>\n",
              "      <td>0.092466</td>\n",
              "      <td>0.196382</td>\n",
              "      <td>1</td>\n",
              "      <td>low</td>\n",
              "      <td>Minnesota</td>\n",
              "    </tr>\n",
              "    <tr>\n",
              "      <th>23</th>\n",
              "      <td>0.921687</td>\n",
              "      <td>0.732877</td>\n",
              "      <td>0.253230</td>\n",
              "      <td>0</td>\n",
              "      <td>high</td>\n",
              "      <td>Mississippi</td>\n",
              "    </tr>\n",
              "    <tr>\n",
              "      <th>24</th>\n",
              "      <td>0.493976</td>\n",
              "      <td>0.455479</td>\n",
              "      <td>0.540052</td>\n",
              "      <td>0</td>\n",
              "      <td>high</td>\n",
              "      <td>Missouri</td>\n",
              "    </tr>\n",
              "    <tr>\n",
              "      <th>25</th>\n",
              "      <td>0.313253</td>\n",
              "      <td>0.219178</td>\n",
              "      <td>0.235142</td>\n",
              "      <td>1</td>\n",
              "      <td>low</td>\n",
              "      <td>Montana</td>\n",
              "    </tr>\n",
              "    <tr>\n",
              "      <th>26</th>\n",
              "      <td>0.210843</td>\n",
              "      <td>0.195205</td>\n",
              "      <td>0.237726</td>\n",
              "      <td>1</td>\n",
              "      <td>low</td>\n",
              "      <td>Nebraska</td>\n",
              "    </tr>\n",
              "    <tr>\n",
              "      <th>27</th>\n",
              "      <td>0.686747</td>\n",
              "      <td>0.708904</td>\n",
              "      <td>1.000000</td>\n",
              "      <td>0</td>\n",
              "      <td>high</td>\n",
              "      <td>Nevada</td>\n",
              "    </tr>\n",
              "    <tr>\n",
              "      <th>28</th>\n",
              "      <td>0.078313</td>\n",
              "      <td>0.041096</td>\n",
              "      <td>0.056848</td>\n",
              "      <td>1</td>\n",
              "      <td>low</td>\n",
              "      <td>New Hampshire</td>\n",
              "    </tr>\n",
              "    <tr>\n",
              "      <th>29</th>\n",
              "      <td>0.397590</td>\n",
              "      <td>0.390411</td>\n",
              "      <td>0.297158</td>\n",
              "      <td>2</td>\n",
              "      <td>medium</td>\n",
              "      <td>New Jersey</td>\n",
              "    </tr>\n",
              "    <tr>\n",
              "      <th>30</th>\n",
              "      <td>0.638554</td>\n",
              "      <td>0.821918</td>\n",
              "      <td>0.640827</td>\n",
              "      <td>0</td>\n",
              "      <td>high</td>\n",
              "      <td>New Mexico</td>\n",
              "    </tr>\n",
              "    <tr>\n",
              "      <th>31</th>\n",
              "      <td>0.620482</td>\n",
              "      <td>0.715753</td>\n",
              "      <td>0.485788</td>\n",
              "      <td>0</td>\n",
              "      <td>high</td>\n",
              "      <td>New York</td>\n",
              "    </tr>\n",
              "    <tr>\n",
              "      <th>32</th>\n",
              "      <td>0.734940</td>\n",
              "      <td>1.000000</td>\n",
              "      <td>0.227390</td>\n",
              "      <td>0</td>\n",
              "      <td>high</td>\n",
              "      <td>North Carolina</td>\n",
              "    </tr>\n",
              "    <tr>\n",
              "      <th>33</th>\n",
              "      <td>0.000000</td>\n",
              "      <td>0.000000</td>\n",
              "      <td>0.000000</td>\n",
              "      <td>1</td>\n",
              "      <td>low</td>\n",
              "      <td>North Dakota</td>\n",
              "    </tr>\n",
              "    <tr>\n",
              "      <th>34</th>\n",
              "      <td>0.391566</td>\n",
              "      <td>0.256849</td>\n",
              "      <td>0.364341</td>\n",
              "      <td>2</td>\n",
              "      <td>medium</td>\n",
              "      <td>Ohio</td>\n",
              "    </tr>\n",
              "    <tr>\n",
              "      <th>35</th>\n",
              "      <td>0.349398</td>\n",
              "      <td>0.363014</td>\n",
              "      <td>0.328165</td>\n",
              "      <td>2</td>\n",
              "      <td>medium</td>\n",
              "      <td>Oklahoma</td>\n",
              "    </tr>\n",
              "    <tr>\n",
              "      <th>36</th>\n",
              "      <td>0.246988</td>\n",
              "      <td>0.390411</td>\n",
              "      <td>0.568475</td>\n",
              "      <td>2</td>\n",
              "      <td>medium</td>\n",
              "      <td>Oregon</td>\n",
              "    </tr>\n",
              "    <tr>\n",
              "      <th>37</th>\n",
              "      <td>0.331325</td>\n",
              "      <td>0.208904</td>\n",
              "      <td>0.196382</td>\n",
              "      <td>1</td>\n",
              "      <td>low</td>\n",
              "      <td>Pennsylvania</td>\n",
              "    </tr>\n",
              "    <tr>\n",
              "      <th>38</th>\n",
              "      <td>0.156627</td>\n",
              "      <td>0.441781</td>\n",
              "      <td>0.025840</td>\n",
              "      <td>2</td>\n",
              "      <td>medium</td>\n",
              "      <td>Rhode Island</td>\n",
              "    </tr>\n",
              "    <tr>\n",
              "      <th>39</th>\n",
              "      <td>0.819277</td>\n",
              "      <td>0.801370</td>\n",
              "      <td>0.392765</td>\n",
              "      <td>0</td>\n",
              "      <td>high</td>\n",
              "      <td>South Carolina</td>\n",
              "    </tr>\n",
              "    <tr>\n",
              "      <th>40</th>\n",
              "      <td>0.180723</td>\n",
              "      <td>0.140411</td>\n",
              "      <td>0.142119</td>\n",
              "      <td>1</td>\n",
              "      <td>low</td>\n",
              "      <td>South Dakota</td>\n",
              "    </tr>\n",
              "    <tr>\n",
              "      <th>41</th>\n",
              "      <td>0.746988</td>\n",
              "      <td>0.489726</td>\n",
              "      <td>0.506460</td>\n",
              "      <td>0</td>\n",
              "      <td>high</td>\n",
              "      <td>Tennessee</td>\n",
              "    </tr>\n",
              "    <tr>\n",
              "      <th>42</th>\n",
              "      <td>0.716867</td>\n",
              "      <td>0.534247</td>\n",
              "      <td>0.470284</td>\n",
              "      <td>0</td>\n",
              "      <td>high</td>\n",
              "      <td>Texas</td>\n",
              "    </tr>\n",
              "    <tr>\n",
              "      <th>43</th>\n",
              "      <td>0.144578</td>\n",
              "      <td>0.256849</td>\n",
              "      <td>0.403101</td>\n",
              "      <td>2</td>\n",
              "      <td>medium</td>\n",
              "      <td>Utah</td>\n",
              "    </tr>\n",
              "    <tr>\n",
              "      <th>44</th>\n",
              "      <td>0.084337</td>\n",
              "      <td>0.010274</td>\n",
              "      <td>0.100775</td>\n",
              "      <td>1</td>\n",
              "      <td>low</td>\n",
              "      <td>Vermont</td>\n",
              "    </tr>\n",
              "    <tr>\n",
              "      <th>45</th>\n",
              "      <td>0.463855</td>\n",
              "      <td>0.380137</td>\n",
              "      <td>0.346253</td>\n",
              "      <td>2</td>\n",
              "      <td>medium</td>\n",
              "      <td>Virginia</td>\n",
              "    </tr>\n",
              "    <tr>\n",
              "      <th>46</th>\n",
              "      <td>0.192771</td>\n",
              "      <td>0.342466</td>\n",
              "      <td>0.488372</td>\n",
              "      <td>2</td>\n",
              "      <td>medium</td>\n",
              "      <td>Washington</td>\n",
              "    </tr>\n",
              "    <tr>\n",
              "      <th>47</th>\n",
              "      <td>0.295181</td>\n",
              "      <td>0.123288</td>\n",
              "      <td>0.051680</td>\n",
              "      <td>1</td>\n",
              "      <td>low</td>\n",
              "      <td>West Virginia</td>\n",
              "    </tr>\n",
              "    <tr>\n",
              "      <th>48</th>\n",
              "      <td>0.108434</td>\n",
              "      <td>0.027397</td>\n",
              "      <td>0.090439</td>\n",
              "      <td>1</td>\n",
              "      <td>low</td>\n",
              "      <td>Wisconsin</td>\n",
              "    </tr>\n",
              "    <tr>\n",
              "      <th>49</th>\n",
              "      <td>0.361446</td>\n",
              "      <td>0.397260</td>\n",
              "      <td>0.214470</td>\n",
              "      <td>2</td>\n",
              "      <td>medium</td>\n",
              "      <td>Wyoming</td>\n",
              "    </tr>\n",
              "  </tbody>\n",
              "</table>\n",
              "</div>"
            ],
            "text/plain": [
              "      Murder   Assault      Rape  cluster crime_level          States\n",
              "0   0.746988  0.654110  0.359173        0        high         Alabama\n",
              "1   0.554217  0.746575  0.961240        0        high          Alaska\n",
              "2   0.439759  0.852740  0.612403        0        high         Arizona\n",
              "3   0.481928  0.496575  0.315245        2      medium        Arkansas\n",
              "4   0.493976  0.791096  0.860465        0        high      California\n",
              "5   0.427711  0.544521  0.811370        0        high        Colorado\n",
              "6   0.150602  0.222603  0.098191        1         low     Connecticut\n",
              "7   0.307229  0.660959  0.219638        2      medium        Delaware\n",
              "8   0.879518  0.993151  0.635659        0        high         Florida\n",
              "9   1.000000  0.568493  0.478036        0        high         Georgia\n",
              "10  0.271084  0.003425  0.333333        1         low          Hawaii\n",
              "11  0.108434  0.256849  0.178295        1         low           Idaho\n",
              "12  0.578313  0.698630  0.431525        0        high        Illinois\n",
              "13  0.385542  0.232877  0.354005        2      medium         Indiana\n",
              "14  0.084337  0.037671  0.103359        1         low            Iowa\n",
              "15  0.313253  0.239726  0.276486        1         low          Kansas\n",
              "16  0.536145  0.219178  0.232558        2      medium        Kentucky\n",
              "17  0.879518  0.698630  0.385013        0        high       Louisiana\n",
              "18  0.078313  0.130137  0.012920        1         low           Maine\n",
              "19  0.632530  0.873288  0.529716        0        high        Maryland\n",
              "20  0.216867  0.356164  0.232558        1         low   Massachusetts\n",
              "21  0.680723  0.719178  0.718346        0        high        Michigan\n",
              "22  0.114458  0.092466  0.196382        1         low       Minnesota\n",
              "23  0.921687  0.732877  0.253230        0        high     Mississippi\n",
              "24  0.493976  0.455479  0.540052        0        high        Missouri\n",
              "25  0.313253  0.219178  0.235142        1         low         Montana\n",
              "26  0.210843  0.195205  0.237726        1         low        Nebraska\n",
              "27  0.686747  0.708904  1.000000        0        high          Nevada\n",
              "28  0.078313  0.041096  0.056848        1         low   New Hampshire\n",
              "29  0.397590  0.390411  0.297158        2      medium      New Jersey\n",
              "30  0.638554  0.821918  0.640827        0        high      New Mexico\n",
              "31  0.620482  0.715753  0.485788        0        high        New York\n",
              "32  0.734940  1.000000  0.227390        0        high  North Carolina\n",
              "33  0.000000  0.000000  0.000000        1         low    North Dakota\n",
              "34  0.391566  0.256849  0.364341        2      medium            Ohio\n",
              "35  0.349398  0.363014  0.328165        2      medium        Oklahoma\n",
              "36  0.246988  0.390411  0.568475        2      medium          Oregon\n",
              "37  0.331325  0.208904  0.196382        1         low    Pennsylvania\n",
              "38  0.156627  0.441781  0.025840        2      medium    Rhode Island\n",
              "39  0.819277  0.801370  0.392765        0        high  South Carolina\n",
              "40  0.180723  0.140411  0.142119        1         low    South Dakota\n",
              "41  0.746988  0.489726  0.506460        0        high       Tennessee\n",
              "42  0.716867  0.534247  0.470284        0        high           Texas\n",
              "43  0.144578  0.256849  0.403101        2      medium            Utah\n",
              "44  0.084337  0.010274  0.100775        1         low         Vermont\n",
              "45  0.463855  0.380137  0.346253        2      medium        Virginia\n",
              "46  0.192771  0.342466  0.488372        2      medium      Washington\n",
              "47  0.295181  0.123288  0.051680        1         low   West Virginia\n",
              "48  0.108434  0.027397  0.090439        1         low       Wisconsin\n",
              "49  0.361446  0.397260  0.214470        2      medium         Wyoming"
            ]
          },
          "execution_count": 47,
          "metadata": {},
          "output_type": "execute_result"
        }
      ],
      "source": [
        "X2[\"States\"] = df.index\n",
        "X2"
      ]
    },
    {
      "cell_type": "code",
      "execution_count": null,
      "metadata": {
        "ExecuteTime": {
          "end_time": "2022-09-07T10:40:33.745702Z",
          "start_time": "2022-09-07T10:40:33.731745Z"
        },
        "id": "J1Jsi8ObSW07",
        "outputId": "ddd60e71-ac6e-4856-ac9f-6c91c45e4c38"
      },
      "outputs": [
        {
          "data": {
            "text/plain": [
              "6       Connecticut\n",
              "10           Hawaii\n",
              "11            Idaho\n",
              "14             Iowa\n",
              "15           Kansas\n",
              "18            Maine\n",
              "20    Massachusetts\n",
              "22        Minnesota\n",
              "25          Montana\n",
              "26         Nebraska\n",
              "28    New Hampshire\n",
              "33     North Dakota\n",
              "37     Pennsylvania\n",
              "40     South Dakota\n",
              "44          Vermont\n",
              "47    West Virginia\n",
              "48        Wisconsin\n",
              "Name: States, dtype: object"
            ]
          },
          "execution_count": 48,
          "metadata": {},
          "output_type": "execute_result"
        }
      ],
      "source": [
        "X2[X2.crime_level==\"low\"][\"States\"]"
      ]
    },
    {
      "cell_type": "code",
      "execution_count": null,
      "metadata": {
        "ExecuteTime": {
          "end_time": "2022-09-07T10:40:33.761644Z",
          "start_time": "2022-09-07T10:40:33.746695Z"
        },
        "id": "kFH55WnbSW07",
        "outputId": "56911d79-5ca5-424e-abee-d815a293d4cd"
      },
      "outputs": [
        {
          "data": {
            "text/plain": [
              "0            Alabama\n",
              "1             Alaska\n",
              "2            Arizona\n",
              "4         California\n",
              "5           Colorado\n",
              "8            Florida\n",
              "9            Georgia\n",
              "12          Illinois\n",
              "17         Louisiana\n",
              "19          Maryland\n",
              "21          Michigan\n",
              "23       Mississippi\n",
              "24          Missouri\n",
              "27            Nevada\n",
              "30        New Mexico\n",
              "31          New York\n",
              "32    North Carolina\n",
              "39    South Carolina\n",
              "41         Tennessee\n",
              "42             Texas\n",
              "Name: States, dtype: object"
            ]
          },
          "execution_count": 49,
          "metadata": {},
          "output_type": "execute_result"
        }
      ],
      "source": [
        "X2[X2.crime_level==\"high\"][\"States\"]"
      ]
    },
    {
      "cell_type": "code",
      "execution_count": null,
      "metadata": {
        "ExecuteTime": {
          "end_time": "2022-09-07T10:40:33.777595Z",
          "start_time": "2022-09-07T10:40:33.762642Z"
        },
        "id": "ZGTJj_vSSW07",
        "outputId": "f5bb69aa-0aa9-4932-c056-3f9c7117f4bd"
      },
      "outputs": [
        {
          "data": {
            "text/plain": [
              "3         Arkansas\n",
              "7         Delaware\n",
              "13         Indiana\n",
              "16        Kentucky\n",
              "29      New Jersey\n",
              "34            Ohio\n",
              "35        Oklahoma\n",
              "36          Oregon\n",
              "38    Rhode Island\n",
              "43            Utah\n",
              "45        Virginia\n",
              "46      Washington\n",
              "49         Wyoming\n",
              "Name: States, dtype: object"
            ]
          },
          "execution_count": 50,
          "metadata": {},
          "output_type": "execute_result"
        }
      ],
      "source": [
        "X2[X2.crime_level==\"medium\"][\"States\"]"
      ]
    },
    {
      "cell_type": "code",
      "execution_count": null,
      "metadata": {
        "id": "LdYfClHmSW07"
      },
      "outputs": [],
      "source": []
    }
  ],
  "metadata": {
    "kernelspec": {
      "display_name": "Python 3 (ipykernel)",
      "language": "python",
      "name": "python3"
    },
    "language_info": {
      "codemirror_mode": {
        "name": "ipython",
        "version": 3
      },
      "file_extension": ".py",
      "mimetype": "text/x-python",
      "name": "python",
      "nbconvert_exporter": "python",
      "pygments_lexer": "ipython3",
      "version": "3.9.12"
    },
    "toc": {
      "base_numbering": 1,
      "nav_menu": {},
      "number_sections": true,
      "sideBar": true,
      "skip_h1_title": false,
      "title_cell": "Table of Contents",
      "title_sidebar": "Contents",
      "toc_cell": false,
      "toc_position": {},
      "toc_section_display": true,
      "toc_window_display": false
    },
    "varInspector": {
      "cols": {
        "lenName": 16,
        "lenType": 16,
        "lenVar": 40
      },
      "kernels_config": {
        "python": {
          "delete_cmd_postfix": "",
          "delete_cmd_prefix": "del ",
          "library": "var_list.py",
          "varRefreshCmd": "print(var_dic_list())"
        },
        "r": {
          "delete_cmd_postfix": ") ",
          "delete_cmd_prefix": "rm(",
          "library": "var_list.r",
          "varRefreshCmd": "cat(var_dic_list()) "
        }
      },
      "types_to_exclude": [
        "module",
        "function",
        "builtin_function_or_method",
        "instance",
        "_Feature"
      ],
      "window_display": false
    },
    "colab": {
      "provenance": [],
      "collapsed_sections": [
        "w0OXCa7rSW04"
      ],
      "include_colab_link": true
    }
  },
  "nbformat": 4,
  "nbformat_minor": 0
}